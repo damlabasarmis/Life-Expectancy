{
  "nbformat": 4,
  "nbformat_minor": 0,
  "metadata": {
    "colab": {
      "provenance": []
    },
    "kernelspec": {
      "name": "python3",
      "display_name": "Python 3"
    },
    "language_info": {
      "name": "python"
    }
  },
  "cells": [
    {
      "cell_type": "code",
      "execution_count": 2,
      "metadata": {
        "colab": {
          "base_uri": "https://localhost:8080/"
        },
        "id": "iz9zSW0_eTiM",
        "outputId": "41a17fe0-f392-4d66-f33d-66c07a8d819f"
      },
      "outputs": [
        {
          "output_type": "stream",
          "name": "stdout",
          "text": [
            "<class 'pandas.core.frame.DataFrame'>\n",
            "RangeIndex: 105 entries, 0 to 104\n",
            "Data columns (total 10 columns):\n",
            " #   Column     Non-Null Count  Dtype  \n",
            "---  ------     --------------  -----  \n",
            " 0   X          100 non-null    float64\n",
            " 1   life.exp   94 non-null     float64\n",
            " 2   status     97 non-null     object \n",
            " 3   continent  93 non-null     object \n",
            " 4   mort       92 non-null     float64\n",
            " 5   alcohol    96 non-null     float64\n",
            " 6   BMI        94 non-null     float64\n",
            " 7   total.exp  90 non-null     float64\n",
            " 8   GDP        93 non-null     float64\n",
            " 9   unit       97 non-null     object \n",
            "dtypes: float64(7), object(3)\n",
            "memory usage: 8.3+ KB\n"
          ]
        }
      ],
      "source": [
        "import pandas as pd\n",
        "import numpy as np\n",
        "import matplotlib.pyplot as plt\n",
        "import datetime\n",
        "\n",
        "\n",
        "dt = pd.read_excel('life_expectancy.xlsx')\n",
        "dt.info() \n",
        "#Here we are examining the variables and their types. Their types are correct,\n",
        "#We have null values for each variable since there are 105 countries total.\n",
        "#qualitative: status,continent,unit\n",
        "#quantitative: life expectancy,mortality,alcohol,BMI,total expectancy,GDP\n"
      ]
    },
    {
      "cell_type": "code",
      "source": [
        "dt.head()"
      ],
      "metadata": {
        "colab": {
          "base_uri": "https://localhost:8080/",
          "height": 204
        },
        "id": "Zl-mIoCce6hD",
        "outputId": "351e2aa2-b61d-47ef-8c94-fdbaf6182ea8"
      },
      "execution_count": 3,
      "outputs": [
        {
          "output_type": "execute_result",
          "data": {
            "text/plain": [
              "     X  life.exp      status continent   mort  alcohol    BMI  total.exp  \\\n",
              "0  1.0  1.254904  Developing    Europe  51.23     3.76    NaN        9.4   \n",
              "1  2.0  1.683241   Developed   America  52.05    11.93  31.48        5.2   \n",
              "2  3.0  0.131227   Developed       NaN  29.56     8.63  28.72        4.8   \n",
              "3  4.0  1.126234         NaN    Europe  35.04     1.74  36.73       11.9   \n",
              "4  5.0  7.504646  Developing      Asia  99.38     4.78  54.91        9.2   \n",
              "\n",
              "        GDP unit  \n",
              "0  17469.42  USD  \n",
              "1  19317.92  USD  \n",
              "2  11598.08  USD  \n",
              "3  16726.17  USD  \n",
              "4  48588.73  USD  "
            ],
            "text/html": [
              "\n",
              "  <div id=\"df-35b3a3b5-7e91-4349-bf53-21a447da2bf5\">\n",
              "    <div class=\"colab-df-container\">\n",
              "      <div>\n",
              "<style scoped>\n",
              "    .dataframe tbody tr th:only-of-type {\n",
              "        vertical-align: middle;\n",
              "    }\n",
              "\n",
              "    .dataframe tbody tr th {\n",
              "        vertical-align: top;\n",
              "    }\n",
              "\n",
              "    .dataframe thead th {\n",
              "        text-align: right;\n",
              "    }\n",
              "</style>\n",
              "<table border=\"1\" class=\"dataframe\">\n",
              "  <thead>\n",
              "    <tr style=\"text-align: right;\">\n",
              "      <th></th>\n",
              "      <th>X</th>\n",
              "      <th>life.exp</th>\n",
              "      <th>status</th>\n",
              "      <th>continent</th>\n",
              "      <th>mort</th>\n",
              "      <th>alcohol</th>\n",
              "      <th>BMI</th>\n",
              "      <th>total.exp</th>\n",
              "      <th>GDP</th>\n",
              "      <th>unit</th>\n",
              "    </tr>\n",
              "  </thead>\n",
              "  <tbody>\n",
              "    <tr>\n",
              "      <th>0</th>\n",
              "      <td>1.0</td>\n",
              "      <td>1.254904</td>\n",
              "      <td>Developing</td>\n",
              "      <td>Europe</td>\n",
              "      <td>51.23</td>\n",
              "      <td>3.76</td>\n",
              "      <td>NaN</td>\n",
              "      <td>9.4</td>\n",
              "      <td>17469.42</td>\n",
              "      <td>USD</td>\n",
              "    </tr>\n",
              "    <tr>\n",
              "      <th>1</th>\n",
              "      <td>2.0</td>\n",
              "      <td>1.683241</td>\n",
              "      <td>Developed</td>\n",
              "      <td>America</td>\n",
              "      <td>52.05</td>\n",
              "      <td>11.93</td>\n",
              "      <td>31.48</td>\n",
              "      <td>5.2</td>\n",
              "      <td>19317.92</td>\n",
              "      <td>USD</td>\n",
              "    </tr>\n",
              "    <tr>\n",
              "      <th>2</th>\n",
              "      <td>3.0</td>\n",
              "      <td>0.131227</td>\n",
              "      <td>Developed</td>\n",
              "      <td>NaN</td>\n",
              "      <td>29.56</td>\n",
              "      <td>8.63</td>\n",
              "      <td>28.72</td>\n",
              "      <td>4.8</td>\n",
              "      <td>11598.08</td>\n",
              "      <td>USD</td>\n",
              "    </tr>\n",
              "    <tr>\n",
              "      <th>3</th>\n",
              "      <td>4.0</td>\n",
              "      <td>1.126234</td>\n",
              "      <td>NaN</td>\n",
              "      <td>Europe</td>\n",
              "      <td>35.04</td>\n",
              "      <td>1.74</td>\n",
              "      <td>36.73</td>\n",
              "      <td>11.9</td>\n",
              "      <td>16726.17</td>\n",
              "      <td>USD</td>\n",
              "    </tr>\n",
              "    <tr>\n",
              "      <th>4</th>\n",
              "      <td>5.0</td>\n",
              "      <td>7.504646</td>\n",
              "      <td>Developing</td>\n",
              "      <td>Asia</td>\n",
              "      <td>99.38</td>\n",
              "      <td>4.78</td>\n",
              "      <td>54.91</td>\n",
              "      <td>9.2</td>\n",
              "      <td>48588.73</td>\n",
              "      <td>USD</td>\n",
              "    </tr>\n",
              "  </tbody>\n",
              "</table>\n",
              "</div>\n",
              "      <button class=\"colab-df-convert\" onclick=\"convertToInteractive('df-35b3a3b5-7e91-4349-bf53-21a447da2bf5')\"\n",
              "              title=\"Convert this dataframe to an interactive table.\"\n",
              "              style=\"display:none;\">\n",
              "        \n",
              "  <svg xmlns=\"http://www.w3.org/2000/svg\" height=\"24px\"viewBox=\"0 0 24 24\"\n",
              "       width=\"24px\">\n",
              "    <path d=\"M0 0h24v24H0V0z\" fill=\"none\"/>\n",
              "    <path d=\"M18.56 5.44l.94 2.06.94-2.06 2.06-.94-2.06-.94-.94-2.06-.94 2.06-2.06.94zm-11 1L8.5 8.5l.94-2.06 2.06-.94-2.06-.94L8.5 2.5l-.94 2.06-2.06.94zm10 10l.94 2.06.94-2.06 2.06-.94-2.06-.94-.94-2.06-.94 2.06-2.06.94z\"/><path d=\"M17.41 7.96l-1.37-1.37c-.4-.4-.92-.59-1.43-.59-.52 0-1.04.2-1.43.59L10.3 9.45l-7.72 7.72c-.78.78-.78 2.05 0 2.83L4 21.41c.39.39.9.59 1.41.59.51 0 1.02-.2 1.41-.59l7.78-7.78 2.81-2.81c.8-.78.8-2.07 0-2.86zM5.41 20L4 18.59l7.72-7.72 1.47 1.35L5.41 20z\"/>\n",
              "  </svg>\n",
              "      </button>\n",
              "      \n",
              "  <style>\n",
              "    .colab-df-container {\n",
              "      display:flex;\n",
              "      flex-wrap:wrap;\n",
              "      gap: 12px;\n",
              "    }\n",
              "\n",
              "    .colab-df-convert {\n",
              "      background-color: #E8F0FE;\n",
              "      border: none;\n",
              "      border-radius: 50%;\n",
              "      cursor: pointer;\n",
              "      display: none;\n",
              "      fill: #1967D2;\n",
              "      height: 32px;\n",
              "      padding: 0 0 0 0;\n",
              "      width: 32px;\n",
              "    }\n",
              "\n",
              "    .colab-df-convert:hover {\n",
              "      background-color: #E2EBFA;\n",
              "      box-shadow: 0px 1px 2px rgba(60, 64, 67, 0.3), 0px 1px 3px 1px rgba(60, 64, 67, 0.15);\n",
              "      fill: #174EA6;\n",
              "    }\n",
              "\n",
              "    [theme=dark] .colab-df-convert {\n",
              "      background-color: #3B4455;\n",
              "      fill: #D2E3FC;\n",
              "    }\n",
              "\n",
              "    [theme=dark] .colab-df-convert:hover {\n",
              "      background-color: #434B5C;\n",
              "      box-shadow: 0px 1px 3px 1px rgba(0, 0, 0, 0.15);\n",
              "      filter: drop-shadow(0px 1px 2px rgba(0, 0, 0, 0.3));\n",
              "      fill: #FFFFFF;\n",
              "    }\n",
              "  </style>\n",
              "\n",
              "      <script>\n",
              "        const buttonEl =\n",
              "          document.querySelector('#df-35b3a3b5-7e91-4349-bf53-21a447da2bf5 button.colab-df-convert');\n",
              "        buttonEl.style.display =\n",
              "          google.colab.kernel.accessAllowed ? 'block' : 'none';\n",
              "\n",
              "        async function convertToInteractive(key) {\n",
              "          const element = document.querySelector('#df-35b3a3b5-7e91-4349-bf53-21a447da2bf5');\n",
              "          const dataTable =\n",
              "            await google.colab.kernel.invokeFunction('convertToInteractive',\n",
              "                                                     [key], {});\n",
              "          if (!dataTable) return;\n",
              "\n",
              "          const docLinkHtml = 'Like what you see? Visit the ' +\n",
              "            '<a target=\"_blank\" href=https://colab.research.google.com/notebooks/data_table.ipynb>data table notebook</a>'\n",
              "            + ' to learn more about interactive tables.';\n",
              "          element.innerHTML = '';\n",
              "          dataTable['output_type'] = 'display_data';\n",
              "          await google.colab.output.renderOutput(dataTable, element);\n",
              "          const docLink = document.createElement('div');\n",
              "          docLink.innerHTML = docLinkHtml;\n",
              "          element.appendChild(docLink);\n",
              "        }\n",
              "      </script>\n",
              "    </div>\n",
              "  </div>\n",
              "  "
            ]
          },
          "metadata": {},
          "execution_count": 3
        }
      ]
    },
    {
      "cell_type": "code",
      "source": [
        "dt.tail()"
      ],
      "metadata": {
        "colab": {
          "base_uri": "https://localhost:8080/",
          "height": 204
        },
        "id": "wYvPsJ4nyyyZ",
        "outputId": "067eb456-10f8-4b89-92dd-bbe621c11684"
      },
      "execution_count": 4,
      "outputs": [
        {
          "output_type": "execute_result",
          "data": {
            "text/plain": [
              "         X  life.exp      status continent   mort  alcohol    BMI  total.exp  \\\n",
              "100  101.0  0.554860         NaN   America    NaN    13.38  23.80       11.1   \n",
              "101    NaN  4.075307   Developed    Europe  64.86    12.60  43.36        NaN   \n",
              "102  103.0  2.944492   Developed   America  78.46     9.07  42.59        5.7   \n",
              "103  104.0  0.963611  Developing   America  31.94     3.22    NaN        7.9   \n",
              "104  105.0  0.682844   Developed   America    NaN    16.06  38.70        7.7   \n",
              "\n",
              "          GDP unit  \n",
              "100  13728.07  USD  \n",
              "101  31222.80  usd  \n",
              "102  25789.60  USD  \n",
              "103  15753.37  USD  \n",
              "104       NaN  NaN  "
            ],
            "text/html": [
              "\n",
              "  <div id=\"df-c24e5361-3ce0-4bc0-8f71-82fe167f1946\">\n",
              "    <div class=\"colab-df-container\">\n",
              "      <div>\n",
              "<style scoped>\n",
              "    .dataframe tbody tr th:only-of-type {\n",
              "        vertical-align: middle;\n",
              "    }\n",
              "\n",
              "    .dataframe tbody tr th {\n",
              "        vertical-align: top;\n",
              "    }\n",
              "\n",
              "    .dataframe thead th {\n",
              "        text-align: right;\n",
              "    }\n",
              "</style>\n",
              "<table border=\"1\" class=\"dataframe\">\n",
              "  <thead>\n",
              "    <tr style=\"text-align: right;\">\n",
              "      <th></th>\n",
              "      <th>X</th>\n",
              "      <th>life.exp</th>\n",
              "      <th>status</th>\n",
              "      <th>continent</th>\n",
              "      <th>mort</th>\n",
              "      <th>alcohol</th>\n",
              "      <th>BMI</th>\n",
              "      <th>total.exp</th>\n",
              "      <th>GDP</th>\n",
              "      <th>unit</th>\n",
              "    </tr>\n",
              "  </thead>\n",
              "  <tbody>\n",
              "    <tr>\n",
              "      <th>100</th>\n",
              "      <td>101.0</td>\n",
              "      <td>0.554860</td>\n",
              "      <td>NaN</td>\n",
              "      <td>America</td>\n",
              "      <td>NaN</td>\n",
              "      <td>13.38</td>\n",
              "      <td>23.80</td>\n",
              "      <td>11.1</td>\n",
              "      <td>13728.07</td>\n",
              "      <td>USD</td>\n",
              "    </tr>\n",
              "    <tr>\n",
              "      <th>101</th>\n",
              "      <td>NaN</td>\n",
              "      <td>4.075307</td>\n",
              "      <td>Developed</td>\n",
              "      <td>Europe</td>\n",
              "      <td>64.86</td>\n",
              "      <td>12.60</td>\n",
              "      <td>43.36</td>\n",
              "      <td>NaN</td>\n",
              "      <td>31222.80</td>\n",
              "      <td>usd</td>\n",
              "    </tr>\n",
              "    <tr>\n",
              "      <th>102</th>\n",
              "      <td>103.0</td>\n",
              "      <td>2.944492</td>\n",
              "      <td>Developed</td>\n",
              "      <td>America</td>\n",
              "      <td>78.46</td>\n",
              "      <td>9.07</td>\n",
              "      <td>42.59</td>\n",
              "      <td>5.7</td>\n",
              "      <td>25789.60</td>\n",
              "      <td>USD</td>\n",
              "    </tr>\n",
              "    <tr>\n",
              "      <th>103</th>\n",
              "      <td>104.0</td>\n",
              "      <td>0.963611</td>\n",
              "      <td>Developing</td>\n",
              "      <td>America</td>\n",
              "      <td>31.94</td>\n",
              "      <td>3.22</td>\n",
              "      <td>NaN</td>\n",
              "      <td>7.9</td>\n",
              "      <td>15753.37</td>\n",
              "      <td>USD</td>\n",
              "    </tr>\n",
              "    <tr>\n",
              "      <th>104</th>\n",
              "      <td>105.0</td>\n",
              "      <td>0.682844</td>\n",
              "      <td>Developed</td>\n",
              "      <td>America</td>\n",
              "      <td>NaN</td>\n",
              "      <td>16.06</td>\n",
              "      <td>38.70</td>\n",
              "      <td>7.7</td>\n",
              "      <td>NaN</td>\n",
              "      <td>NaN</td>\n",
              "    </tr>\n",
              "  </tbody>\n",
              "</table>\n",
              "</div>\n",
              "      <button class=\"colab-df-convert\" onclick=\"convertToInteractive('df-c24e5361-3ce0-4bc0-8f71-82fe167f1946')\"\n",
              "              title=\"Convert this dataframe to an interactive table.\"\n",
              "              style=\"display:none;\">\n",
              "        \n",
              "  <svg xmlns=\"http://www.w3.org/2000/svg\" height=\"24px\"viewBox=\"0 0 24 24\"\n",
              "       width=\"24px\">\n",
              "    <path d=\"M0 0h24v24H0V0z\" fill=\"none\"/>\n",
              "    <path d=\"M18.56 5.44l.94 2.06.94-2.06 2.06-.94-2.06-.94-.94-2.06-.94 2.06-2.06.94zm-11 1L8.5 8.5l.94-2.06 2.06-.94-2.06-.94L8.5 2.5l-.94 2.06-2.06.94zm10 10l.94 2.06.94-2.06 2.06-.94-2.06-.94-.94-2.06-.94 2.06-2.06.94z\"/><path d=\"M17.41 7.96l-1.37-1.37c-.4-.4-.92-.59-1.43-.59-.52 0-1.04.2-1.43.59L10.3 9.45l-7.72 7.72c-.78.78-.78 2.05 0 2.83L4 21.41c.39.39.9.59 1.41.59.51 0 1.02-.2 1.41-.59l7.78-7.78 2.81-2.81c.8-.78.8-2.07 0-2.86zM5.41 20L4 18.59l7.72-7.72 1.47 1.35L5.41 20z\"/>\n",
              "  </svg>\n",
              "      </button>\n",
              "      \n",
              "  <style>\n",
              "    .colab-df-container {\n",
              "      display:flex;\n",
              "      flex-wrap:wrap;\n",
              "      gap: 12px;\n",
              "    }\n",
              "\n",
              "    .colab-df-convert {\n",
              "      background-color: #E8F0FE;\n",
              "      border: none;\n",
              "      border-radius: 50%;\n",
              "      cursor: pointer;\n",
              "      display: none;\n",
              "      fill: #1967D2;\n",
              "      height: 32px;\n",
              "      padding: 0 0 0 0;\n",
              "      width: 32px;\n",
              "    }\n",
              "\n",
              "    .colab-df-convert:hover {\n",
              "      background-color: #E2EBFA;\n",
              "      box-shadow: 0px 1px 2px rgba(60, 64, 67, 0.3), 0px 1px 3px 1px rgba(60, 64, 67, 0.15);\n",
              "      fill: #174EA6;\n",
              "    }\n",
              "\n",
              "    [theme=dark] .colab-df-convert {\n",
              "      background-color: #3B4455;\n",
              "      fill: #D2E3FC;\n",
              "    }\n",
              "\n",
              "    [theme=dark] .colab-df-convert:hover {\n",
              "      background-color: #434B5C;\n",
              "      box-shadow: 0px 1px 3px 1px rgba(0, 0, 0, 0.15);\n",
              "      filter: drop-shadow(0px 1px 2px rgba(0, 0, 0, 0.3));\n",
              "      fill: #FFFFFF;\n",
              "    }\n",
              "  </style>\n",
              "\n",
              "      <script>\n",
              "        const buttonEl =\n",
              "          document.querySelector('#df-c24e5361-3ce0-4bc0-8f71-82fe167f1946 button.colab-df-convert');\n",
              "        buttonEl.style.display =\n",
              "          google.colab.kernel.accessAllowed ? 'block' : 'none';\n",
              "\n",
              "        async function convertToInteractive(key) {\n",
              "          const element = document.querySelector('#df-c24e5361-3ce0-4bc0-8f71-82fe167f1946');\n",
              "          const dataTable =\n",
              "            await google.colab.kernel.invokeFunction('convertToInteractive',\n",
              "                                                     [key], {});\n",
              "          if (!dataTable) return;\n",
              "\n",
              "          const docLinkHtml = 'Like what you see? Visit the ' +\n",
              "            '<a target=\"_blank\" href=https://colab.research.google.com/notebooks/data_table.ipynb>data table notebook</a>'\n",
              "            + ' to learn more about interactive tables.';\n",
              "          element.innerHTML = '';\n",
              "          dataTable['output_type'] = 'display_data';\n",
              "          await google.colab.output.renderOutput(dataTable, element);\n",
              "          const docLink = document.createElement('div');\n",
              "          docLink.innerHTML = docLinkHtml;\n",
              "          element.appendChild(docLink);\n",
              "        }\n",
              "      </script>\n",
              "    </div>\n",
              "  </div>\n",
              "  "
            ]
          },
          "metadata": {},
          "execution_count": 4
        }
      ]
    },
    {
      "cell_type": "code",
      "source": [
        "new_dt = pd.DataFrame(dt.isnull().sum())\n",
        "new_dt.columns = ['Missing Number']\n",
        "new_dt['Missing Percentage'] = (new_dt['Missing Number']*100)/dt.shape[0]\n",
        "new_dt\n",
        "#We are cheking how many missing values we have and what are their percentages for the related variable."
      ],
      "metadata": {
        "colab": {
          "base_uri": "https://localhost:8080/",
          "height": 359
        },
        "id": "q6wg_yJKK_xu",
        "outputId": "e9e893be-270c-4cdb-d02c-4c51638e844d"
      },
      "execution_count": 5,
      "outputs": [
        {
          "output_type": "execute_result",
          "data": {
            "text/plain": [
              "           Missing Number  Missing Percentage\n",
              "X                       5            4.761905\n",
              "life.exp               11           10.476190\n",
              "status                  8            7.619048\n",
              "continent              12           11.428571\n",
              "mort                   13           12.380952\n",
              "alcohol                 9            8.571429\n",
              "BMI                    11           10.476190\n",
              "total.exp              15           14.285714\n",
              "GDP                    12           11.428571\n",
              "unit                    8            7.619048"
            ],
            "text/html": [
              "\n",
              "  <div id=\"df-b45a4a3b-cfd7-4b10-9ba9-d4347951cd80\">\n",
              "    <div class=\"colab-df-container\">\n",
              "      <div>\n",
              "<style scoped>\n",
              "    .dataframe tbody tr th:only-of-type {\n",
              "        vertical-align: middle;\n",
              "    }\n",
              "\n",
              "    .dataframe tbody tr th {\n",
              "        vertical-align: top;\n",
              "    }\n",
              "\n",
              "    .dataframe thead th {\n",
              "        text-align: right;\n",
              "    }\n",
              "</style>\n",
              "<table border=\"1\" class=\"dataframe\">\n",
              "  <thead>\n",
              "    <tr style=\"text-align: right;\">\n",
              "      <th></th>\n",
              "      <th>Missing Number</th>\n",
              "      <th>Missing Percentage</th>\n",
              "    </tr>\n",
              "  </thead>\n",
              "  <tbody>\n",
              "    <tr>\n",
              "      <th>X</th>\n",
              "      <td>5</td>\n",
              "      <td>4.761905</td>\n",
              "    </tr>\n",
              "    <tr>\n",
              "      <th>life.exp</th>\n",
              "      <td>11</td>\n",
              "      <td>10.476190</td>\n",
              "    </tr>\n",
              "    <tr>\n",
              "      <th>status</th>\n",
              "      <td>8</td>\n",
              "      <td>7.619048</td>\n",
              "    </tr>\n",
              "    <tr>\n",
              "      <th>continent</th>\n",
              "      <td>12</td>\n",
              "      <td>11.428571</td>\n",
              "    </tr>\n",
              "    <tr>\n",
              "      <th>mort</th>\n",
              "      <td>13</td>\n",
              "      <td>12.380952</td>\n",
              "    </tr>\n",
              "    <tr>\n",
              "      <th>alcohol</th>\n",
              "      <td>9</td>\n",
              "      <td>8.571429</td>\n",
              "    </tr>\n",
              "    <tr>\n",
              "      <th>BMI</th>\n",
              "      <td>11</td>\n",
              "      <td>10.476190</td>\n",
              "    </tr>\n",
              "    <tr>\n",
              "      <th>total.exp</th>\n",
              "      <td>15</td>\n",
              "      <td>14.285714</td>\n",
              "    </tr>\n",
              "    <tr>\n",
              "      <th>GDP</th>\n",
              "      <td>12</td>\n",
              "      <td>11.428571</td>\n",
              "    </tr>\n",
              "    <tr>\n",
              "      <th>unit</th>\n",
              "      <td>8</td>\n",
              "      <td>7.619048</td>\n",
              "    </tr>\n",
              "  </tbody>\n",
              "</table>\n",
              "</div>\n",
              "      <button class=\"colab-df-convert\" onclick=\"convertToInteractive('df-b45a4a3b-cfd7-4b10-9ba9-d4347951cd80')\"\n",
              "              title=\"Convert this dataframe to an interactive table.\"\n",
              "              style=\"display:none;\">\n",
              "        \n",
              "  <svg xmlns=\"http://www.w3.org/2000/svg\" height=\"24px\"viewBox=\"0 0 24 24\"\n",
              "       width=\"24px\">\n",
              "    <path d=\"M0 0h24v24H0V0z\" fill=\"none\"/>\n",
              "    <path d=\"M18.56 5.44l.94 2.06.94-2.06 2.06-.94-2.06-.94-.94-2.06-.94 2.06-2.06.94zm-11 1L8.5 8.5l.94-2.06 2.06-.94-2.06-.94L8.5 2.5l-.94 2.06-2.06.94zm10 10l.94 2.06.94-2.06 2.06-.94-2.06-.94-.94-2.06-.94 2.06-2.06.94z\"/><path d=\"M17.41 7.96l-1.37-1.37c-.4-.4-.92-.59-1.43-.59-.52 0-1.04.2-1.43.59L10.3 9.45l-7.72 7.72c-.78.78-.78 2.05 0 2.83L4 21.41c.39.39.9.59 1.41.59.51 0 1.02-.2 1.41-.59l7.78-7.78 2.81-2.81c.8-.78.8-2.07 0-2.86zM5.41 20L4 18.59l7.72-7.72 1.47 1.35L5.41 20z\"/>\n",
              "  </svg>\n",
              "      </button>\n",
              "      \n",
              "  <style>\n",
              "    .colab-df-container {\n",
              "      display:flex;\n",
              "      flex-wrap:wrap;\n",
              "      gap: 12px;\n",
              "    }\n",
              "\n",
              "    .colab-df-convert {\n",
              "      background-color: #E8F0FE;\n",
              "      border: none;\n",
              "      border-radius: 50%;\n",
              "      cursor: pointer;\n",
              "      display: none;\n",
              "      fill: #1967D2;\n",
              "      height: 32px;\n",
              "      padding: 0 0 0 0;\n",
              "      width: 32px;\n",
              "    }\n",
              "\n",
              "    .colab-df-convert:hover {\n",
              "      background-color: #E2EBFA;\n",
              "      box-shadow: 0px 1px 2px rgba(60, 64, 67, 0.3), 0px 1px 3px 1px rgba(60, 64, 67, 0.15);\n",
              "      fill: #174EA6;\n",
              "    }\n",
              "\n",
              "    [theme=dark] .colab-df-convert {\n",
              "      background-color: #3B4455;\n",
              "      fill: #D2E3FC;\n",
              "    }\n",
              "\n",
              "    [theme=dark] .colab-df-convert:hover {\n",
              "      background-color: #434B5C;\n",
              "      box-shadow: 0px 1px 3px 1px rgba(0, 0, 0, 0.15);\n",
              "      filter: drop-shadow(0px 1px 2px rgba(0, 0, 0, 0.3));\n",
              "      fill: #FFFFFF;\n",
              "    }\n",
              "  </style>\n",
              "\n",
              "      <script>\n",
              "        const buttonEl =\n",
              "          document.querySelector('#df-b45a4a3b-cfd7-4b10-9ba9-d4347951cd80 button.colab-df-convert');\n",
              "        buttonEl.style.display =\n",
              "          google.colab.kernel.accessAllowed ? 'block' : 'none';\n",
              "\n",
              "        async function convertToInteractive(key) {\n",
              "          const element = document.querySelector('#df-b45a4a3b-cfd7-4b10-9ba9-d4347951cd80');\n",
              "          const dataTable =\n",
              "            await google.colab.kernel.invokeFunction('convertToInteractive',\n",
              "                                                     [key], {});\n",
              "          if (!dataTable) return;\n",
              "\n",
              "          const docLinkHtml = 'Like what you see? Visit the ' +\n",
              "            '<a target=\"_blank\" href=https://colab.research.google.com/notebooks/data_table.ipynb>data table notebook</a>'\n",
              "            + ' to learn more about interactive tables.';\n",
              "          element.innerHTML = '';\n",
              "          dataTable['output_type'] = 'display_data';\n",
              "          await google.colab.output.renderOutput(dataTable, element);\n",
              "          const docLink = document.createElement('div');\n",
              "          docLink.innerHTML = docLinkHtml;\n",
              "          element.appendChild(docLink);\n",
              "        }\n",
              "      </script>\n",
              "    </div>\n",
              "  </div>\n",
              "  "
            ]
          },
          "metadata": {},
          "execution_count": 5
        }
      ]
    },
    {
      "cell_type": "code",
      "source": [
        "dt.columns=dt.columns.str.title()\n",
        "dt=dt.rename({'Life.Exp':'Life Expectancy'},axis='columns')\n",
        "dt=dt.rename({'Mort':'Mortality'},axis='columns')   \n",
        "dt=dt.rename({'Total.Exp':'Total Expenditure'},axis='columns')\n",
        "dt=dt.rename({'Bmi':'BMI'},axis='columns') \n",
        "dt=dt.rename({'Gdp':'GDP'},axis='columns')   #converts first character to uppercase\n",
        "dt.head()"
      ],
      "metadata": {
        "id": "EHA33lEn9C08",
        "colab": {
          "base_uri": "https://localhost:8080/",
          "height": 204
        },
        "outputId": "c62e9e9c-abc4-4647-af7b-93ff923b3bdd"
      },
      "execution_count": 6,
      "outputs": [
        {
          "output_type": "execute_result",
          "data": {
            "text/plain": [
              "     X  Life Expectancy      Status Continent  Mortality  Alcohol    BMI  \\\n",
              "0  1.0         1.254904  Developing    Europe      51.23     3.76    NaN   \n",
              "1  2.0         1.683241   Developed   America      52.05    11.93  31.48   \n",
              "2  3.0         0.131227   Developed       NaN      29.56     8.63  28.72   \n",
              "3  4.0         1.126234         NaN    Europe      35.04     1.74  36.73   \n",
              "4  5.0         7.504646  Developing      Asia      99.38     4.78  54.91   \n",
              "\n",
              "   Total Expenditure       GDP Unit  \n",
              "0                9.4  17469.42  USD  \n",
              "1                5.2  19317.92  USD  \n",
              "2                4.8  11598.08  USD  \n",
              "3               11.9  16726.17  USD  \n",
              "4                9.2  48588.73  USD  "
            ],
            "text/html": [
              "\n",
              "  <div id=\"df-420fe753-2193-46de-ba93-bff8ed7cfd0f\">\n",
              "    <div class=\"colab-df-container\">\n",
              "      <div>\n",
              "<style scoped>\n",
              "    .dataframe tbody tr th:only-of-type {\n",
              "        vertical-align: middle;\n",
              "    }\n",
              "\n",
              "    .dataframe tbody tr th {\n",
              "        vertical-align: top;\n",
              "    }\n",
              "\n",
              "    .dataframe thead th {\n",
              "        text-align: right;\n",
              "    }\n",
              "</style>\n",
              "<table border=\"1\" class=\"dataframe\">\n",
              "  <thead>\n",
              "    <tr style=\"text-align: right;\">\n",
              "      <th></th>\n",
              "      <th>X</th>\n",
              "      <th>Life Expectancy</th>\n",
              "      <th>Status</th>\n",
              "      <th>Continent</th>\n",
              "      <th>Mortality</th>\n",
              "      <th>Alcohol</th>\n",
              "      <th>BMI</th>\n",
              "      <th>Total Expenditure</th>\n",
              "      <th>GDP</th>\n",
              "      <th>Unit</th>\n",
              "    </tr>\n",
              "  </thead>\n",
              "  <tbody>\n",
              "    <tr>\n",
              "      <th>0</th>\n",
              "      <td>1.0</td>\n",
              "      <td>1.254904</td>\n",
              "      <td>Developing</td>\n",
              "      <td>Europe</td>\n",
              "      <td>51.23</td>\n",
              "      <td>3.76</td>\n",
              "      <td>NaN</td>\n",
              "      <td>9.4</td>\n",
              "      <td>17469.42</td>\n",
              "      <td>USD</td>\n",
              "    </tr>\n",
              "    <tr>\n",
              "      <th>1</th>\n",
              "      <td>2.0</td>\n",
              "      <td>1.683241</td>\n",
              "      <td>Developed</td>\n",
              "      <td>America</td>\n",
              "      <td>52.05</td>\n",
              "      <td>11.93</td>\n",
              "      <td>31.48</td>\n",
              "      <td>5.2</td>\n",
              "      <td>19317.92</td>\n",
              "      <td>USD</td>\n",
              "    </tr>\n",
              "    <tr>\n",
              "      <th>2</th>\n",
              "      <td>3.0</td>\n",
              "      <td>0.131227</td>\n",
              "      <td>Developed</td>\n",
              "      <td>NaN</td>\n",
              "      <td>29.56</td>\n",
              "      <td>8.63</td>\n",
              "      <td>28.72</td>\n",
              "      <td>4.8</td>\n",
              "      <td>11598.08</td>\n",
              "      <td>USD</td>\n",
              "    </tr>\n",
              "    <tr>\n",
              "      <th>3</th>\n",
              "      <td>4.0</td>\n",
              "      <td>1.126234</td>\n",
              "      <td>NaN</td>\n",
              "      <td>Europe</td>\n",
              "      <td>35.04</td>\n",
              "      <td>1.74</td>\n",
              "      <td>36.73</td>\n",
              "      <td>11.9</td>\n",
              "      <td>16726.17</td>\n",
              "      <td>USD</td>\n",
              "    </tr>\n",
              "    <tr>\n",
              "      <th>4</th>\n",
              "      <td>5.0</td>\n",
              "      <td>7.504646</td>\n",
              "      <td>Developing</td>\n",
              "      <td>Asia</td>\n",
              "      <td>99.38</td>\n",
              "      <td>4.78</td>\n",
              "      <td>54.91</td>\n",
              "      <td>9.2</td>\n",
              "      <td>48588.73</td>\n",
              "      <td>USD</td>\n",
              "    </tr>\n",
              "  </tbody>\n",
              "</table>\n",
              "</div>\n",
              "      <button class=\"colab-df-convert\" onclick=\"convertToInteractive('df-420fe753-2193-46de-ba93-bff8ed7cfd0f')\"\n",
              "              title=\"Convert this dataframe to an interactive table.\"\n",
              "              style=\"display:none;\">\n",
              "        \n",
              "  <svg xmlns=\"http://www.w3.org/2000/svg\" height=\"24px\"viewBox=\"0 0 24 24\"\n",
              "       width=\"24px\">\n",
              "    <path d=\"M0 0h24v24H0V0z\" fill=\"none\"/>\n",
              "    <path d=\"M18.56 5.44l.94 2.06.94-2.06 2.06-.94-2.06-.94-.94-2.06-.94 2.06-2.06.94zm-11 1L8.5 8.5l.94-2.06 2.06-.94-2.06-.94L8.5 2.5l-.94 2.06-2.06.94zm10 10l.94 2.06.94-2.06 2.06-.94-2.06-.94-.94-2.06-.94 2.06-2.06.94z\"/><path d=\"M17.41 7.96l-1.37-1.37c-.4-.4-.92-.59-1.43-.59-.52 0-1.04.2-1.43.59L10.3 9.45l-7.72 7.72c-.78.78-.78 2.05 0 2.83L4 21.41c.39.39.9.59 1.41.59.51 0 1.02-.2 1.41-.59l7.78-7.78 2.81-2.81c.8-.78.8-2.07 0-2.86zM5.41 20L4 18.59l7.72-7.72 1.47 1.35L5.41 20z\"/>\n",
              "  </svg>\n",
              "      </button>\n",
              "      \n",
              "  <style>\n",
              "    .colab-df-container {\n",
              "      display:flex;\n",
              "      flex-wrap:wrap;\n",
              "      gap: 12px;\n",
              "    }\n",
              "\n",
              "    .colab-df-convert {\n",
              "      background-color: #E8F0FE;\n",
              "      border: none;\n",
              "      border-radius: 50%;\n",
              "      cursor: pointer;\n",
              "      display: none;\n",
              "      fill: #1967D2;\n",
              "      height: 32px;\n",
              "      padding: 0 0 0 0;\n",
              "      width: 32px;\n",
              "    }\n",
              "\n",
              "    .colab-df-convert:hover {\n",
              "      background-color: #E2EBFA;\n",
              "      box-shadow: 0px 1px 2px rgba(60, 64, 67, 0.3), 0px 1px 3px 1px rgba(60, 64, 67, 0.15);\n",
              "      fill: #174EA6;\n",
              "    }\n",
              "\n",
              "    [theme=dark] .colab-df-convert {\n",
              "      background-color: #3B4455;\n",
              "      fill: #D2E3FC;\n",
              "    }\n",
              "\n",
              "    [theme=dark] .colab-df-convert:hover {\n",
              "      background-color: #434B5C;\n",
              "      box-shadow: 0px 1px 3px 1px rgba(0, 0, 0, 0.15);\n",
              "      filter: drop-shadow(0px 1px 2px rgba(0, 0, 0, 0.3));\n",
              "      fill: #FFFFFF;\n",
              "    }\n",
              "  </style>\n",
              "\n",
              "      <script>\n",
              "        const buttonEl =\n",
              "          document.querySelector('#df-420fe753-2193-46de-ba93-bff8ed7cfd0f button.colab-df-convert');\n",
              "        buttonEl.style.display =\n",
              "          google.colab.kernel.accessAllowed ? 'block' : 'none';\n",
              "\n",
              "        async function convertToInteractive(key) {\n",
              "          const element = document.querySelector('#df-420fe753-2193-46de-ba93-bff8ed7cfd0f');\n",
              "          const dataTable =\n",
              "            await google.colab.kernel.invokeFunction('convertToInteractive',\n",
              "                                                     [key], {});\n",
              "          if (!dataTable) return;\n",
              "\n",
              "          const docLinkHtml = 'Like what you see? Visit the ' +\n",
              "            '<a target=\"_blank\" href=https://colab.research.google.com/notebooks/data_table.ipynb>data table notebook</a>'\n",
              "            + ' to learn more about interactive tables.';\n",
              "          element.innerHTML = '';\n",
              "          dataTable['output_type'] = 'display_data';\n",
              "          await google.colab.output.renderOutput(dataTable, element);\n",
              "          const docLink = document.createElement('div');\n",
              "          docLink.innerHTML = docLinkHtml;\n",
              "          element.appendChild(docLink);\n",
              "        }\n",
              "      </script>\n",
              "    </div>\n",
              "  </div>\n",
              "  "
            ]
          },
          "metadata": {},
          "execution_count": 6
        }
      ]
    },
    {
      "cell_type": "code",
      "source": [
        "dt = dt.drop(\"X\", axis=1) #X column is unnecessary, so we dropped it."
      ],
      "metadata": {
        "id": "65VKSp7Yf3yk"
      },
      "execution_count": 7,
      "outputs": []
    },
    {
      "cell_type": "code",
      "source": [
        "dt['Status'] = dt['Status'].str.strip() #Remove uneccessary white spaces."
      ],
      "metadata": {
        "id": "XAiS4q53x8AX"
      },
      "execution_count": 8,
      "outputs": []
    },
    {
      "cell_type": "code",
      "source": [
        "dt['Status'].iloc[dt['Status'] == 'DEVELOPed'] = 'Developed'         #Correct the typos.\n",
        "dt['Status'].iloc[dt['Status'] == 'DEVELOPing'] = 'Developing'"
      ],
      "metadata": {
        "id": "NqleV4oQyP1c",
        "colab": {
          "base_uri": "https://localhost:8080/"
        },
        "outputId": "4ef1008f-e642-4480-e7a3-7541f4caf782"
      },
      "execution_count": 9,
      "outputs": [
        {
          "output_type": "stream",
          "name": "stderr",
          "text": [
            "/usr/local/lib/python3.8/dist-packages/pandas/core/indexing.py:1732: SettingWithCopyWarning: \n",
            "A value is trying to be set on a copy of a slice from a DataFrame\n",
            "\n",
            "See the caveats in the documentation: https://pandas.pydata.org/pandas-docs/stable/user_guide/indexing.html#returning-a-view-versus-a-copy\n",
            "  self._setitem_single_block(indexer, value, name)\n"
          ]
        }
      ]
    },
    {
      "cell_type": "code",
      "source": [
        "dt['Continent']=dt['Continent'].str.strip()       #removes unnecessary white spaces"
      ],
      "metadata": {
        "id": "4u42txNk-yE-"
      },
      "execution_count": 10,
      "outputs": []
    },
    {
      "cell_type": "code",
      "source": [
        "dt['Status'] = dt['Status'].fillna(dt['Status'].mode()[0]) #Replace missing status values with the mode of the status."
      ],
      "metadata": {
        "id": "-b8K-VKpQwGr"
      },
      "execution_count": 11,
      "outputs": []
    },
    {
      "cell_type": "code",
      "source": [
        "dt['Continent']=dt['Continent'].fillna(dt['Continent'].mode()[0])   #changing mode value(Asia) from null values (mode imputation)"
      ],
      "metadata": {
        "id": "9137Cvft9DHu"
      },
      "execution_count": 12,
      "outputs": []
    },
    {
      "cell_type": "code",
      "source": [
        "# now, i'll start working with the unit\n",
        "dt['Unit'].unique()"
      ],
      "metadata": {
        "id": "3LUZnUq6h1nF",
        "colab": {
          "base_uri": "https://localhost:8080/"
        },
        "outputId": "bf25db91-7dc8-48c3-ba11-8208ffd089af"
      },
      "execution_count": 13,
      "outputs": [
        {
          "output_type": "execute_result",
          "data": {
            "text/plain": [
              "array(['USD', nan, 'TL', ' uSd', 'usd'], dtype=object)"
            ]
          },
          "metadata": {},
          "execution_count": 13
        }
      ]
    },
    {
      "cell_type": "code",
      "source": [
        "dt['Unit'].value_counts()"
      ],
      "metadata": {
        "id": "3qtAhWQxi95v",
        "colab": {
          "base_uri": "https://localhost:8080/"
        },
        "outputId": "7ee24a09-448a-4d9a-b665-d6b088671726"
      },
      "execution_count": 14,
      "outputs": [
        {
          "output_type": "execute_result",
          "data": {
            "text/plain": [
              "USD     82\n",
              "usd      7\n",
              "TL       5\n",
              " uSd     3\n",
              "Name: Unit, dtype: int64"
            ]
          },
          "metadata": {},
          "execution_count": 14
        }
      ]
    },
    {
      "cell_type": "code",
      "source": [
        "#i'll start by fixing the dollars\n",
        "dt[\"Unit\"]=dt[\"Unit\"].str.upper()"
      ],
      "metadata": {
        "id": "EIDRgOdiiaxx"
      },
      "execution_count": 15,
      "outputs": []
    },
    {
      "cell_type": "code",
      "source": [
        "#i'll get rid of the leading spaces\n",
        "dt[\"Unit\"]=dt[\"Unit\"].str.strip()\n"
      ],
      "metadata": {
        "id": "WMPKbQLJjrLN"
      },
      "execution_count": 16,
      "outputs": []
    },
    {
      "cell_type": "code",
      "source": [
        "dt[\"Unit\"]=dt[\"Unit\"].fillna(\"USD\")"
      ],
      "metadata": {
        "id": "ua_NKnWs4xY3"
      },
      "execution_count": 17,
      "outputs": []
    },
    {
      "cell_type": "code",
      "source": [
        "dt[\"Unit\"].unique()"
      ],
      "metadata": {
        "colab": {
          "base_uri": "https://localhost:8080/"
        },
        "id": "EF91lH8247u6",
        "outputId": "e92be9a1-a738-40d4-cbe0-c945677c3b65"
      },
      "execution_count": 18,
      "outputs": [
        {
          "output_type": "execute_result",
          "data": {
            "text/plain": [
              "array(['USD', 'TL'], dtype=object)"
            ]
          },
          "metadata": {},
          "execution_count": 18
        }
      ]
    },
    {
      "cell_type": "code",
      "source": [
        "dt.info() #We are checking again if data types are correct."
      ],
      "metadata": {
        "colab": {
          "base_uri": "https://localhost:8080/"
        },
        "id": "RW3AXOC96R9U",
        "outputId": "c7de56ca-a163-450e-d32a-888aacbafdda"
      },
      "execution_count": 19,
      "outputs": [
        {
          "output_type": "stream",
          "name": "stdout",
          "text": [
            "<class 'pandas.core.frame.DataFrame'>\n",
            "RangeIndex: 105 entries, 0 to 104\n",
            "Data columns (total 9 columns):\n",
            " #   Column             Non-Null Count  Dtype  \n",
            "---  ------             --------------  -----  \n",
            " 0   Life Expectancy    94 non-null     float64\n",
            " 1   Status             105 non-null    object \n",
            " 2   Continent          105 non-null    object \n",
            " 3   Mortality          92 non-null     float64\n",
            " 4   Alcohol            96 non-null     float64\n",
            " 5   BMI                94 non-null     float64\n",
            " 6   Total Expenditure  90 non-null     float64\n",
            " 7   GDP                93 non-null     float64\n",
            " 8   Unit               105 non-null    object \n",
            "dtypes: float64(6), object(3)\n",
            "memory usage: 7.5+ KB\n"
          ]
        }
      ]
    },
    {
      "cell_type": "code",
      "source": [
        "dt.describe().transpose()\n",
        "#There are null values that we should fill with whether mean, median or mode.\n",
        "#We see that all life expectancy data are unexpected values,they should have been close to 70-75. \n",
        "#Also the maximum life expectancy value is unrelatedly high.\n",
        "#Mean and median of life expectancy is quite far from each other, we will eliminate the outliers.\n",
        "#Mortality does not seem to have unexpected values, we will only eliminate null values. \n",
        "#BMI has unexpected values such as -150. We should eliminate them."
      ],
      "metadata": {
        "colab": {
          "base_uri": "https://localhost:8080/",
          "height": 235
        },
        "id": "FcGYpuDf6aDY",
        "outputId": "17ad7983-3d82-4c66-be66-f7ee36641807"
      },
      "execution_count": 20,
      "outputs": [
        {
          "output_type": "execute_result",
          "data": {
            "text/plain": [
              "                   count          mean          std          min  \\\n",
              "Life Expectancy     94.0      7.274015    21.918165      0.00272   \n",
              "Mortality           92.0     50.768804    24.278505     10.17000   \n",
              "Alcohol             96.0      9.747187     5.621387      1.00000   \n",
              "BMI                 94.0     27.661170    52.662987   -150.00000   \n",
              "Total Expenditure   90.0      8.193333     2.404855      2.50000   \n",
              "GDP                 93.0  21392.295806  8019.324725  11091.50000   \n",
              "\n",
              "                            25%           50%           75%       max  \n",
              "Life Expectancy        0.705206      1.981312      3.403092     99.00  \n",
              "Mortality             32.150000     50.095000     69.657500     99.38  \n",
              "Alcohol                5.292500      9.515000     14.832500     19.86  \n",
              "BMI                   28.247500     40.665000     50.175000     78.56  \n",
              "Total Expenditure      6.700000      7.700000      9.800000     14.60  \n",
              "GDP                14534.020000  20070.390000  26657.520000  48588.73  "
            ],
            "text/html": [
              "\n",
              "  <div id=\"df-223c747d-0289-4878-8a77-eb74e3965b97\">\n",
              "    <div class=\"colab-df-container\">\n",
              "      <div>\n",
              "<style scoped>\n",
              "    .dataframe tbody tr th:only-of-type {\n",
              "        vertical-align: middle;\n",
              "    }\n",
              "\n",
              "    .dataframe tbody tr th {\n",
              "        vertical-align: top;\n",
              "    }\n",
              "\n",
              "    .dataframe thead th {\n",
              "        text-align: right;\n",
              "    }\n",
              "</style>\n",
              "<table border=\"1\" class=\"dataframe\">\n",
              "  <thead>\n",
              "    <tr style=\"text-align: right;\">\n",
              "      <th></th>\n",
              "      <th>count</th>\n",
              "      <th>mean</th>\n",
              "      <th>std</th>\n",
              "      <th>min</th>\n",
              "      <th>25%</th>\n",
              "      <th>50%</th>\n",
              "      <th>75%</th>\n",
              "      <th>max</th>\n",
              "    </tr>\n",
              "  </thead>\n",
              "  <tbody>\n",
              "    <tr>\n",
              "      <th>Life Expectancy</th>\n",
              "      <td>94.0</td>\n",
              "      <td>7.274015</td>\n",
              "      <td>21.918165</td>\n",
              "      <td>0.00272</td>\n",
              "      <td>0.705206</td>\n",
              "      <td>1.981312</td>\n",
              "      <td>3.403092</td>\n",
              "      <td>99.00</td>\n",
              "    </tr>\n",
              "    <tr>\n",
              "      <th>Mortality</th>\n",
              "      <td>92.0</td>\n",
              "      <td>50.768804</td>\n",
              "      <td>24.278505</td>\n",
              "      <td>10.17000</td>\n",
              "      <td>32.150000</td>\n",
              "      <td>50.095000</td>\n",
              "      <td>69.657500</td>\n",
              "      <td>99.38</td>\n",
              "    </tr>\n",
              "    <tr>\n",
              "      <th>Alcohol</th>\n",
              "      <td>96.0</td>\n",
              "      <td>9.747187</td>\n",
              "      <td>5.621387</td>\n",
              "      <td>1.00000</td>\n",
              "      <td>5.292500</td>\n",
              "      <td>9.515000</td>\n",
              "      <td>14.832500</td>\n",
              "      <td>19.86</td>\n",
              "    </tr>\n",
              "    <tr>\n",
              "      <th>BMI</th>\n",
              "      <td>94.0</td>\n",
              "      <td>27.661170</td>\n",
              "      <td>52.662987</td>\n",
              "      <td>-150.00000</td>\n",
              "      <td>28.247500</td>\n",
              "      <td>40.665000</td>\n",
              "      <td>50.175000</td>\n",
              "      <td>78.56</td>\n",
              "    </tr>\n",
              "    <tr>\n",
              "      <th>Total Expenditure</th>\n",
              "      <td>90.0</td>\n",
              "      <td>8.193333</td>\n",
              "      <td>2.404855</td>\n",
              "      <td>2.50000</td>\n",
              "      <td>6.700000</td>\n",
              "      <td>7.700000</td>\n",
              "      <td>9.800000</td>\n",
              "      <td>14.60</td>\n",
              "    </tr>\n",
              "    <tr>\n",
              "      <th>GDP</th>\n",
              "      <td>93.0</td>\n",
              "      <td>21392.295806</td>\n",
              "      <td>8019.324725</td>\n",
              "      <td>11091.50000</td>\n",
              "      <td>14534.020000</td>\n",
              "      <td>20070.390000</td>\n",
              "      <td>26657.520000</td>\n",
              "      <td>48588.73</td>\n",
              "    </tr>\n",
              "  </tbody>\n",
              "</table>\n",
              "</div>\n",
              "      <button class=\"colab-df-convert\" onclick=\"convertToInteractive('df-223c747d-0289-4878-8a77-eb74e3965b97')\"\n",
              "              title=\"Convert this dataframe to an interactive table.\"\n",
              "              style=\"display:none;\">\n",
              "        \n",
              "  <svg xmlns=\"http://www.w3.org/2000/svg\" height=\"24px\"viewBox=\"0 0 24 24\"\n",
              "       width=\"24px\">\n",
              "    <path d=\"M0 0h24v24H0V0z\" fill=\"none\"/>\n",
              "    <path d=\"M18.56 5.44l.94 2.06.94-2.06 2.06-.94-2.06-.94-.94-2.06-.94 2.06-2.06.94zm-11 1L8.5 8.5l.94-2.06 2.06-.94-2.06-.94L8.5 2.5l-.94 2.06-2.06.94zm10 10l.94 2.06.94-2.06 2.06-.94-2.06-.94-.94-2.06-.94 2.06-2.06.94z\"/><path d=\"M17.41 7.96l-1.37-1.37c-.4-.4-.92-.59-1.43-.59-.52 0-1.04.2-1.43.59L10.3 9.45l-7.72 7.72c-.78.78-.78 2.05 0 2.83L4 21.41c.39.39.9.59 1.41.59.51 0 1.02-.2 1.41-.59l7.78-7.78 2.81-2.81c.8-.78.8-2.07 0-2.86zM5.41 20L4 18.59l7.72-7.72 1.47 1.35L5.41 20z\"/>\n",
              "  </svg>\n",
              "      </button>\n",
              "      \n",
              "  <style>\n",
              "    .colab-df-container {\n",
              "      display:flex;\n",
              "      flex-wrap:wrap;\n",
              "      gap: 12px;\n",
              "    }\n",
              "\n",
              "    .colab-df-convert {\n",
              "      background-color: #E8F0FE;\n",
              "      border: none;\n",
              "      border-radius: 50%;\n",
              "      cursor: pointer;\n",
              "      display: none;\n",
              "      fill: #1967D2;\n",
              "      height: 32px;\n",
              "      padding: 0 0 0 0;\n",
              "      width: 32px;\n",
              "    }\n",
              "\n",
              "    .colab-df-convert:hover {\n",
              "      background-color: #E2EBFA;\n",
              "      box-shadow: 0px 1px 2px rgba(60, 64, 67, 0.3), 0px 1px 3px 1px rgba(60, 64, 67, 0.15);\n",
              "      fill: #174EA6;\n",
              "    }\n",
              "\n",
              "    [theme=dark] .colab-df-convert {\n",
              "      background-color: #3B4455;\n",
              "      fill: #D2E3FC;\n",
              "    }\n",
              "\n",
              "    [theme=dark] .colab-df-convert:hover {\n",
              "      background-color: #434B5C;\n",
              "      box-shadow: 0px 1px 3px 1px rgba(0, 0, 0, 0.15);\n",
              "      filter: drop-shadow(0px 1px 2px rgba(0, 0, 0, 0.3));\n",
              "      fill: #FFFFFF;\n",
              "    }\n",
              "  </style>\n",
              "\n",
              "      <script>\n",
              "        const buttonEl =\n",
              "          document.querySelector('#df-223c747d-0289-4878-8a77-eb74e3965b97 button.colab-df-convert');\n",
              "        buttonEl.style.display =\n",
              "          google.colab.kernel.accessAllowed ? 'block' : 'none';\n",
              "\n",
              "        async function convertToInteractive(key) {\n",
              "          const element = document.querySelector('#df-223c747d-0289-4878-8a77-eb74e3965b97');\n",
              "          const dataTable =\n",
              "            await google.colab.kernel.invokeFunction('convertToInteractive',\n",
              "                                                     [key], {});\n",
              "          if (!dataTable) return;\n",
              "\n",
              "          const docLinkHtml = 'Like what you see? Visit the ' +\n",
              "            '<a target=\"_blank\" href=https://colab.research.google.com/notebooks/data_table.ipynb>data table notebook</a>'\n",
              "            + ' to learn more about interactive tables.';\n",
              "          element.innerHTML = '';\n",
              "          dataTable['output_type'] = 'display_data';\n",
              "          await google.colab.output.renderOutput(dataTable, element);\n",
              "          const docLink = document.createElement('div');\n",
              "          docLink.innerHTML = docLinkHtml;\n",
              "          element.appendChild(docLink);\n",
              "        }\n",
              "      </script>\n",
              "    </div>\n",
              "  </div>\n",
              "  "
            ]
          },
          "metadata": {},
          "execution_count": 20
        }
      ]
    },
    {
      "cell_type": "code",
      "source": [
        "dt[\"Life Expectancy\"]+=70 #Since global life expectancy is around 70 and our median is 1.98, we will add 70 to the values in our data set."
      ],
      "metadata": {
        "id": "1H_jlcf8LL-6"
      },
      "execution_count": 21,
      "outputs": []
    },
    {
      "cell_type": "code",
      "source": [
        "dt[\"Life Expectancy\"].loc[dt[\"Life Expectancy\"]==169]=dt[\"Life Expectancy\"].median()\n",
        " #We are replacing the unexpectedly high value (169) with median,since mean was affected by outliers.\n"
      ],
      "metadata": {
        "colab": {
          "base_uri": "https://localhost:8080/"
        },
        "id": "HMNKNLegKsBQ",
        "outputId": "7ebc6017-3084-488b-ba20-292b64adca37"
      },
      "execution_count": 22,
      "outputs": [
        {
          "output_type": "stream",
          "name": "stderr",
          "text": [
            "/usr/local/lib/python3.8/dist-packages/pandas/core/indexing.py:1732: SettingWithCopyWarning: \n",
            "A value is trying to be set on a copy of a slice from a DataFrame\n",
            "\n",
            "See the caveats in the documentation: https://pandas.pydata.org/pandas-docs/stable/user_guide/indexing.html#returning-a-view-versus-a-copy\n",
            "  self._setitem_single_block(indexer, value, name)\n"
          ]
        }
      ]
    },
    {
      "cell_type": "code",
      "source": [
        "dt[\"Life Expectancy\"]=dt[\"Life Expectancy\"].fillna(dt[\"Life Expectancy\"].mean())\n",
        "#We are eliminating the missing values by replacing them with mean, since median and mean is now close \n",
        "#to each other after eliminating outliers, it does not matter."
      ],
      "metadata": {
        "id": "iNUH4w_dKsna"
      },
      "execution_count": 23,
      "outputs": []
    },
    {
      "cell_type": "code",
      "source": [
        "dt[\"Mortality\"]=dt[\"Mortality\"].fillna(dt[\"Mortality\"].median()) #We are eliminating missing values for mortality variable by replacing with median, \n",
        "#again it does not matter since mean and median is close to each other. We do not have outliers here."
      ],
      "metadata": {
        "id": "ogiT0JJkQPne"
      },
      "execution_count": 24,
      "outputs": []
    },
    {
      "cell_type": "code",
      "source": [
        "dt.round({\"Mortality\":2,\"Life Expectancy\":2}) #We are rounding the decimals to 2 decimals, to have a clearer vision."
      ],
      "metadata": {
        "colab": {
          "base_uri": "https://localhost:8080/",
          "height": 419
        },
        "id": "-c1zkQBdQS-Y",
        "outputId": "3510f22d-ebde-4c83-fde5-effa289abb5f"
      },
      "execution_count": 25,
      "outputs": [
        {
          "output_type": "execute_result",
          "data": {
            "text/plain": [
              "     Life Expectancy      Status Continent  Mortality  Alcohol    BMI  \\\n",
              "0              71.25  Developing    Europe      51.23     3.76    NaN   \n",
              "1              71.68   Developed   America      52.05    11.93  31.48   \n",
              "2              70.13   Developed      Asia      29.56     8.63  28.72   \n",
              "3              71.13   Developed    Europe      35.04     1.74  36.73   \n",
              "4              77.50  Developing      Asia      99.38     4.78  54.91   \n",
              "..               ...         ...       ...        ...      ...    ...   \n",
              "100            70.55   Developed   America      50.10    13.38  23.80   \n",
              "101            74.08   Developed    Europe      64.86    12.60  43.36   \n",
              "102            72.94   Developed   America      78.46     9.07  42.59   \n",
              "103            70.96  Developing   America      31.94     3.22    NaN   \n",
              "104            70.68   Developed   America      50.10    16.06  38.70   \n",
              "\n",
              "     Total Expenditure       GDP Unit  \n",
              "0                  9.4  17469.42  USD  \n",
              "1                  5.2  19317.92  USD  \n",
              "2                  4.8  11598.08  USD  \n",
              "3                 11.9  16726.17  USD  \n",
              "4                  9.2  48588.73  USD  \n",
              "..                 ...       ...  ...  \n",
              "100               11.1  13728.07  USD  \n",
              "101                NaN  31222.80  USD  \n",
              "102                5.7  25789.60  USD  \n",
              "103                7.9  15753.37  USD  \n",
              "104                7.7       NaN  USD  \n",
              "\n",
              "[105 rows x 9 columns]"
            ],
            "text/html": [
              "\n",
              "  <div id=\"df-3273c49b-17d9-46f1-9a60-8e98838ec38f\">\n",
              "    <div class=\"colab-df-container\">\n",
              "      <div>\n",
              "<style scoped>\n",
              "    .dataframe tbody tr th:only-of-type {\n",
              "        vertical-align: middle;\n",
              "    }\n",
              "\n",
              "    .dataframe tbody tr th {\n",
              "        vertical-align: top;\n",
              "    }\n",
              "\n",
              "    .dataframe thead th {\n",
              "        text-align: right;\n",
              "    }\n",
              "</style>\n",
              "<table border=\"1\" class=\"dataframe\">\n",
              "  <thead>\n",
              "    <tr style=\"text-align: right;\">\n",
              "      <th></th>\n",
              "      <th>Life Expectancy</th>\n",
              "      <th>Status</th>\n",
              "      <th>Continent</th>\n",
              "      <th>Mortality</th>\n",
              "      <th>Alcohol</th>\n",
              "      <th>BMI</th>\n",
              "      <th>Total Expenditure</th>\n",
              "      <th>GDP</th>\n",
              "      <th>Unit</th>\n",
              "    </tr>\n",
              "  </thead>\n",
              "  <tbody>\n",
              "    <tr>\n",
              "      <th>0</th>\n",
              "      <td>71.25</td>\n",
              "      <td>Developing</td>\n",
              "      <td>Europe</td>\n",
              "      <td>51.23</td>\n",
              "      <td>3.76</td>\n",
              "      <td>NaN</td>\n",
              "      <td>9.4</td>\n",
              "      <td>17469.42</td>\n",
              "      <td>USD</td>\n",
              "    </tr>\n",
              "    <tr>\n",
              "      <th>1</th>\n",
              "      <td>71.68</td>\n",
              "      <td>Developed</td>\n",
              "      <td>America</td>\n",
              "      <td>52.05</td>\n",
              "      <td>11.93</td>\n",
              "      <td>31.48</td>\n",
              "      <td>5.2</td>\n",
              "      <td>19317.92</td>\n",
              "      <td>USD</td>\n",
              "    </tr>\n",
              "    <tr>\n",
              "      <th>2</th>\n",
              "      <td>70.13</td>\n",
              "      <td>Developed</td>\n",
              "      <td>Asia</td>\n",
              "      <td>29.56</td>\n",
              "      <td>8.63</td>\n",
              "      <td>28.72</td>\n",
              "      <td>4.8</td>\n",
              "      <td>11598.08</td>\n",
              "      <td>USD</td>\n",
              "    </tr>\n",
              "    <tr>\n",
              "      <th>3</th>\n",
              "      <td>71.13</td>\n",
              "      <td>Developed</td>\n",
              "      <td>Europe</td>\n",
              "      <td>35.04</td>\n",
              "      <td>1.74</td>\n",
              "      <td>36.73</td>\n",
              "      <td>11.9</td>\n",
              "      <td>16726.17</td>\n",
              "      <td>USD</td>\n",
              "    </tr>\n",
              "    <tr>\n",
              "      <th>4</th>\n",
              "      <td>77.50</td>\n",
              "      <td>Developing</td>\n",
              "      <td>Asia</td>\n",
              "      <td>99.38</td>\n",
              "      <td>4.78</td>\n",
              "      <td>54.91</td>\n",
              "      <td>9.2</td>\n",
              "      <td>48588.73</td>\n",
              "      <td>USD</td>\n",
              "    </tr>\n",
              "    <tr>\n",
              "      <th>...</th>\n",
              "      <td>...</td>\n",
              "      <td>...</td>\n",
              "      <td>...</td>\n",
              "      <td>...</td>\n",
              "      <td>...</td>\n",
              "      <td>...</td>\n",
              "      <td>...</td>\n",
              "      <td>...</td>\n",
              "      <td>...</td>\n",
              "    </tr>\n",
              "    <tr>\n",
              "      <th>100</th>\n",
              "      <td>70.55</td>\n",
              "      <td>Developed</td>\n",
              "      <td>America</td>\n",
              "      <td>50.10</td>\n",
              "      <td>13.38</td>\n",
              "      <td>23.80</td>\n",
              "      <td>11.1</td>\n",
              "      <td>13728.07</td>\n",
              "      <td>USD</td>\n",
              "    </tr>\n",
              "    <tr>\n",
              "      <th>101</th>\n",
              "      <td>74.08</td>\n",
              "      <td>Developed</td>\n",
              "      <td>Europe</td>\n",
              "      <td>64.86</td>\n",
              "      <td>12.60</td>\n",
              "      <td>43.36</td>\n",
              "      <td>NaN</td>\n",
              "      <td>31222.80</td>\n",
              "      <td>USD</td>\n",
              "    </tr>\n",
              "    <tr>\n",
              "      <th>102</th>\n",
              "      <td>72.94</td>\n",
              "      <td>Developed</td>\n",
              "      <td>America</td>\n",
              "      <td>78.46</td>\n",
              "      <td>9.07</td>\n",
              "      <td>42.59</td>\n",
              "      <td>5.7</td>\n",
              "      <td>25789.60</td>\n",
              "      <td>USD</td>\n",
              "    </tr>\n",
              "    <tr>\n",
              "      <th>103</th>\n",
              "      <td>70.96</td>\n",
              "      <td>Developing</td>\n",
              "      <td>America</td>\n",
              "      <td>31.94</td>\n",
              "      <td>3.22</td>\n",
              "      <td>NaN</td>\n",
              "      <td>7.9</td>\n",
              "      <td>15753.37</td>\n",
              "      <td>USD</td>\n",
              "    </tr>\n",
              "    <tr>\n",
              "      <th>104</th>\n",
              "      <td>70.68</td>\n",
              "      <td>Developed</td>\n",
              "      <td>America</td>\n",
              "      <td>50.10</td>\n",
              "      <td>16.06</td>\n",
              "      <td>38.70</td>\n",
              "      <td>7.7</td>\n",
              "      <td>NaN</td>\n",
              "      <td>USD</td>\n",
              "    </tr>\n",
              "  </tbody>\n",
              "</table>\n",
              "<p>105 rows × 9 columns</p>\n",
              "</div>\n",
              "      <button class=\"colab-df-convert\" onclick=\"convertToInteractive('df-3273c49b-17d9-46f1-9a60-8e98838ec38f')\"\n",
              "              title=\"Convert this dataframe to an interactive table.\"\n",
              "              style=\"display:none;\">\n",
              "        \n",
              "  <svg xmlns=\"http://www.w3.org/2000/svg\" height=\"24px\"viewBox=\"0 0 24 24\"\n",
              "       width=\"24px\">\n",
              "    <path d=\"M0 0h24v24H0V0z\" fill=\"none\"/>\n",
              "    <path d=\"M18.56 5.44l.94 2.06.94-2.06 2.06-.94-2.06-.94-.94-2.06-.94 2.06-2.06.94zm-11 1L8.5 8.5l.94-2.06 2.06-.94-2.06-.94L8.5 2.5l-.94 2.06-2.06.94zm10 10l.94 2.06.94-2.06 2.06-.94-2.06-.94-.94-2.06-.94 2.06-2.06.94z\"/><path d=\"M17.41 7.96l-1.37-1.37c-.4-.4-.92-.59-1.43-.59-.52 0-1.04.2-1.43.59L10.3 9.45l-7.72 7.72c-.78.78-.78 2.05 0 2.83L4 21.41c.39.39.9.59 1.41.59.51 0 1.02-.2 1.41-.59l7.78-7.78 2.81-2.81c.8-.78.8-2.07 0-2.86zM5.41 20L4 18.59l7.72-7.72 1.47 1.35L5.41 20z\"/>\n",
              "  </svg>\n",
              "      </button>\n",
              "      \n",
              "  <style>\n",
              "    .colab-df-container {\n",
              "      display:flex;\n",
              "      flex-wrap:wrap;\n",
              "      gap: 12px;\n",
              "    }\n",
              "\n",
              "    .colab-df-convert {\n",
              "      background-color: #E8F0FE;\n",
              "      border: none;\n",
              "      border-radius: 50%;\n",
              "      cursor: pointer;\n",
              "      display: none;\n",
              "      fill: #1967D2;\n",
              "      height: 32px;\n",
              "      padding: 0 0 0 0;\n",
              "      width: 32px;\n",
              "    }\n",
              "\n",
              "    .colab-df-convert:hover {\n",
              "      background-color: #E2EBFA;\n",
              "      box-shadow: 0px 1px 2px rgba(60, 64, 67, 0.3), 0px 1px 3px 1px rgba(60, 64, 67, 0.15);\n",
              "      fill: #174EA6;\n",
              "    }\n",
              "\n",
              "    [theme=dark] .colab-df-convert {\n",
              "      background-color: #3B4455;\n",
              "      fill: #D2E3FC;\n",
              "    }\n",
              "\n",
              "    [theme=dark] .colab-df-convert:hover {\n",
              "      background-color: #434B5C;\n",
              "      box-shadow: 0px 1px 3px 1px rgba(0, 0, 0, 0.15);\n",
              "      filter: drop-shadow(0px 1px 2px rgba(0, 0, 0, 0.3));\n",
              "      fill: #FFFFFF;\n",
              "    }\n",
              "  </style>\n",
              "\n",
              "      <script>\n",
              "        const buttonEl =\n",
              "          document.querySelector('#df-3273c49b-17d9-46f1-9a60-8e98838ec38f button.colab-df-convert');\n",
              "        buttonEl.style.display =\n",
              "          google.colab.kernel.accessAllowed ? 'block' : 'none';\n",
              "\n",
              "        async function convertToInteractive(key) {\n",
              "          const element = document.querySelector('#df-3273c49b-17d9-46f1-9a60-8e98838ec38f');\n",
              "          const dataTable =\n",
              "            await google.colab.kernel.invokeFunction('convertToInteractive',\n",
              "                                                     [key], {});\n",
              "          if (!dataTable) return;\n",
              "\n",
              "          const docLinkHtml = 'Like what you see? Visit the ' +\n",
              "            '<a target=\"_blank\" href=https://colab.research.google.com/notebooks/data_table.ipynb>data table notebook</a>'\n",
              "            + ' to learn more about interactive tables.';\n",
              "          element.innerHTML = '';\n",
              "          dataTable['output_type'] = 'display_data';\n",
              "          await google.colab.output.renderOutput(dataTable, element);\n",
              "          const docLink = document.createElement('div');\n",
              "          docLink.innerHTML = docLinkHtml;\n",
              "          element.appendChild(docLink);\n",
              "        }\n",
              "      </script>\n",
              "    </div>\n",
              "  </div>\n",
              "  "
            ]
          },
          "metadata": {},
          "execution_count": 25
        }
      ]
    },
    {
      "cell_type": "code",
      "source": [
        "mean1=dt['Alcohol'].mean()\n",
        "dt['Alcohol']=dt['Alcohol'].fillna(mean1)        #changing null values to mean (mean imputation)"
      ],
      "metadata": {
        "id": "N-QWg_I29C46"
      },
      "execution_count": 26,
      "outputs": []
    },
    {
      "cell_type": "code",
      "source": [
        "q3=dt['Alcohol'].quantile(0.75)                     #there is no outlier in alcohol\n",
        "q1=dt['Alcohol'].quantile(0.25)\n",
        "q1-1.5*(q3-q1)\n",
        "q3+1.5*(q3-q1)"
      ],
      "metadata": {
        "colab": {
          "base_uri": "https://localhost:8080/"
        },
        "id": "05aN0b5G5U8Y",
        "outputId": "d513e089-739a-4b1b-957b-ea02bd086d3a"
      },
      "execution_count": 27,
      "outputs": [
        {
          "output_type": "execute_result",
          "data": {
            "text/plain": [
              "27.91"
            ]
          },
          "metadata": {},
          "execution_count": 27
        }
      ]
    },
    {
      "cell_type": "code",
      "source": [
        "mean2=dt['BMI'].mean()\n",
        "dt['BMI']=dt['BMI'].fillna(mean2)            #changing null values to mean (mean imputation)"
      ],
      "metadata": {
        "id": "pyavbuUe9C96"
      },
      "execution_count": 28,
      "outputs": []
    },
    {
      "cell_type": "code",
      "source": [
        "q3=dt['BMI'].quantile(0.75)\n",
        "q1=dt['BMI'].quantile(0.25)                    #-150 is an outlier\n",
        "q1-1.5*(q3-q1)\n",
        "q3+1.5*(q3-q1)"
      ],
      "metadata": {
        "colab": {
          "base_uri": "https://localhost:8080/"
        },
        "id": "F_WNvOkA9VQf",
        "outputId": "52aeca0a-118d-4c14-f007-22d0b1d66576"
      },
      "execution_count": 29,
      "outputs": [
        {
          "output_type": "execute_result",
          "data": {
            "text/plain": [
              "77.50824468085108"
            ]
          },
          "metadata": {},
          "execution_count": 29
        }
      ]
    },
    {
      "cell_type": "code",
      "source": [
        "dt['BMI'].loc[dt['BMI']==-150]=dt['BMI'].mean()     #changing outlier to mean"
      ],
      "metadata": {
        "colab": {
          "base_uri": "https://localhost:8080/"
        },
        "id": "5NBZ0WLc9DBd",
        "outputId": "826cc81e-d5ec-48fe-e048-aa1d0bddba9b"
      },
      "execution_count": 30,
      "outputs": [
        {
          "output_type": "stream",
          "name": "stderr",
          "text": [
            "/usr/local/lib/python3.8/dist-packages/pandas/core/indexing.py:1732: SettingWithCopyWarning: \n",
            "A value is trying to be set on a copy of a slice from a DataFrame\n",
            "\n",
            "See the caveats in the documentation: https://pandas.pydata.org/pandas-docs/stable/user_guide/indexing.html#returning-a-view-versus-a-copy\n",
            "  self._setitem_single_block(indexer, value, name)\n"
          ]
        }
      ]
    },
    {
      "cell_type": "code",
      "source": [
        "dt['BMI'].loc[dt['BMI']==78.56]=dt['BMI'].mean()    #changing outlier to mean"
      ],
      "metadata": {
        "id": "kEgvsOSM45d6"
      },
      "execution_count": 31,
      "outputs": []
    },
    {
      "cell_type": "code",
      "source": [
        "#i'll isolate the missing and complete value of total.exp and assing them to missing and complere\n",
        "missing = dt[dt['Total Expenditure'].isna()]\n",
        "complete = dt[~dt['Total Expenditure'].isna()]"
      ],
      "metadata": {
        "id": "i_PD_onGfZEw"
      },
      "execution_count": 32,
      "outputs": []
    },
    {
      "cell_type": "code",
      "source": [
        "missing.head"
      ],
      "metadata": {
        "colab": {
          "base_uri": "https://localhost:8080/"
        },
        "id": "VRHoz7AvgOfK",
        "outputId": "26c3235c-86bc-4063-862a-25fae5df951d"
      },
      "execution_count": 33,
      "outputs": [
        {
          "output_type": "execute_result",
          "data": {
            "text/plain": [
              "<bound method NDFrame.head of      Life Expectancy      Status Continent  Mortality    Alcohol       BMI  \\\n",
              "5          71.302153   Developed      Asia     46.890  16.910000  62.55000   \n",
              "8          70.205938   Developed   America     25.610   9.747187  27.66117   \n",
              "13         72.221929  Developing   America     65.390   7.100000  27.66117   \n",
              "18         71.499181   Developed    Europe     46.770   2.720000  72.94000   \n",
              "37         70.336138  Developing      Asia     15.380   1.420000  46.22000   \n",
              "58         70.640167   Developed    Europe     20.400  17.920000  42.81000   \n",
              "60         71.952697  Developing      Asia     63.100   1.580000  27.66117   \n",
              "69         73.140497   Developed      Asia     61.120   9.590000  37.52000   \n",
              "75         75.241531  Developing      Asia     82.020   9.747187  57.99000   \n",
              "76         70.333020  Developing   America     14.490   2.140000  36.04000   \n",
              "85         70.739582   Developed   America     50.095   5.580000  61.88000   \n",
              "86         72.113447  Developing      Asia     41.630   9.747187  46.10000   \n",
              "90         70.386742  Developing    Europe     17.160  11.180000  48.61000   \n",
              "96         70.698062   Developed      Asia     26.630  15.510000  59.21000   \n",
              "101        74.075307   Developed    Europe     64.860  12.600000  43.36000   \n",
              "\n",
              "     Total Expenditure       GDP Unit  \n",
              "5                  NaN  17311.91  USD  \n",
              "8                  NaN       NaN  USD  \n",
              "13                 NaN  22014.36  USD  \n",
              "18                 NaN  18386.01  USD  \n",
              "37                 NaN  12736.90  USD  \n",
              "58                 NaN       NaN  USD  \n",
              "60                 NaN  20694.62  USD  \n",
              "69                 NaN  26657.52  USD  \n",
              "75                 NaN  37057.40  USD  \n",
              "76                 NaN  12677.14  USD  \n",
              "85                 NaN  14597.02  USD  \n",
              "86                 NaN  18427.01  USD  \n",
              "90                 NaN  12848.44  USD  \n",
              "96                 NaN  14534.02  USD  \n",
              "101                NaN  31222.80  USD  >"
            ]
          },
          "metadata": {},
          "execution_count": 33
        }
      ]
    },
    {
      "cell_type": "code",
      "source": [
        "#i'll replace the missing values of total.exp with the mean of the total.exp\n",
        "total_exp_mean = dt['Total Expenditure'].mean()\n",
        "dt = dt.fillna({'Total Expenditure':total_exp_mean})"
      ],
      "metadata": {
        "id": "KiNZ0r4GgYt9"
      },
      "execution_count": 34,
      "outputs": []
    },
    {
      "cell_type": "code",
      "source": [
        "gdp_mean = dt['GDP'].mean()\n",
        "dt['GDP'] = dt['GDP'].fillna(gdp_mean)  #Replace missing GDP values with the mean of GDP."
      ],
      "metadata": {
        "id": "t_XLaIdmWZhw"
      },
      "execution_count": 35,
      "outputs": []
    },
    {
      "cell_type": "code",
      "source": [
        "q1 = dt['GDP'].quantile(0.25)    #Find the outliers.\n",
        "q3 = dt['GDP'].quantile(0.75)\n",
        "IQR = q3 - q1\n",
        "outliers = dt[((dt['GDP']<(q1-1.5*IQR)) | (dt['GDP']>(q3+1.5*IQR)))]\n",
        "outliers"
      ],
      "metadata": {
        "colab": {
          "base_uri": "https://localhost:8080/",
          "height": 80
        },
        "id": "jkmi892p6s6p",
        "outputId": "7f7b737c-0eb3-45d4-d35d-63a46dc36c28"
      },
      "execution_count": 36,
      "outputs": [
        {
          "output_type": "execute_result",
          "data": {
            "text/plain": [
              "   Life Expectancy      Status Continent  Mortality  Alcohol    BMI  \\\n",
              "4        77.504646  Developing      Asia      99.38     4.78  54.91   \n",
              "\n",
              "   Total Expenditure       GDP Unit  \n",
              "4                9.2  48588.73  USD  "
            ],
            "text/html": [
              "\n",
              "  <div id=\"df-0281b689-9216-4e18-8ff6-75e56b07a78d\">\n",
              "    <div class=\"colab-df-container\">\n",
              "      <div>\n",
              "<style scoped>\n",
              "    .dataframe tbody tr th:only-of-type {\n",
              "        vertical-align: middle;\n",
              "    }\n",
              "\n",
              "    .dataframe tbody tr th {\n",
              "        vertical-align: top;\n",
              "    }\n",
              "\n",
              "    .dataframe thead th {\n",
              "        text-align: right;\n",
              "    }\n",
              "</style>\n",
              "<table border=\"1\" class=\"dataframe\">\n",
              "  <thead>\n",
              "    <tr style=\"text-align: right;\">\n",
              "      <th></th>\n",
              "      <th>Life Expectancy</th>\n",
              "      <th>Status</th>\n",
              "      <th>Continent</th>\n",
              "      <th>Mortality</th>\n",
              "      <th>Alcohol</th>\n",
              "      <th>BMI</th>\n",
              "      <th>Total Expenditure</th>\n",
              "      <th>GDP</th>\n",
              "      <th>Unit</th>\n",
              "    </tr>\n",
              "  </thead>\n",
              "  <tbody>\n",
              "    <tr>\n",
              "      <th>4</th>\n",
              "      <td>77.504646</td>\n",
              "      <td>Developing</td>\n",
              "      <td>Asia</td>\n",
              "      <td>99.38</td>\n",
              "      <td>4.78</td>\n",
              "      <td>54.91</td>\n",
              "      <td>9.2</td>\n",
              "      <td>48588.73</td>\n",
              "      <td>USD</td>\n",
              "    </tr>\n",
              "  </tbody>\n",
              "</table>\n",
              "</div>\n",
              "      <button class=\"colab-df-convert\" onclick=\"convertToInteractive('df-0281b689-9216-4e18-8ff6-75e56b07a78d')\"\n",
              "              title=\"Convert this dataframe to an interactive table.\"\n",
              "              style=\"display:none;\">\n",
              "        \n",
              "  <svg xmlns=\"http://www.w3.org/2000/svg\" height=\"24px\"viewBox=\"0 0 24 24\"\n",
              "       width=\"24px\">\n",
              "    <path d=\"M0 0h24v24H0V0z\" fill=\"none\"/>\n",
              "    <path d=\"M18.56 5.44l.94 2.06.94-2.06 2.06-.94-2.06-.94-.94-2.06-.94 2.06-2.06.94zm-11 1L8.5 8.5l.94-2.06 2.06-.94-2.06-.94L8.5 2.5l-.94 2.06-2.06.94zm10 10l.94 2.06.94-2.06 2.06-.94-2.06-.94-.94-2.06-.94 2.06-2.06.94z\"/><path d=\"M17.41 7.96l-1.37-1.37c-.4-.4-.92-.59-1.43-.59-.52 0-1.04.2-1.43.59L10.3 9.45l-7.72 7.72c-.78.78-.78 2.05 0 2.83L4 21.41c.39.39.9.59 1.41.59.51 0 1.02-.2 1.41-.59l7.78-7.78 2.81-2.81c.8-.78.8-2.07 0-2.86zM5.41 20L4 18.59l7.72-7.72 1.47 1.35L5.41 20z\"/>\n",
              "  </svg>\n",
              "      </button>\n",
              "      \n",
              "  <style>\n",
              "    .colab-df-container {\n",
              "      display:flex;\n",
              "      flex-wrap:wrap;\n",
              "      gap: 12px;\n",
              "    }\n",
              "\n",
              "    .colab-df-convert {\n",
              "      background-color: #E8F0FE;\n",
              "      border: none;\n",
              "      border-radius: 50%;\n",
              "      cursor: pointer;\n",
              "      display: none;\n",
              "      fill: #1967D2;\n",
              "      height: 32px;\n",
              "      padding: 0 0 0 0;\n",
              "      width: 32px;\n",
              "    }\n",
              "\n",
              "    .colab-df-convert:hover {\n",
              "      background-color: #E2EBFA;\n",
              "      box-shadow: 0px 1px 2px rgba(60, 64, 67, 0.3), 0px 1px 3px 1px rgba(60, 64, 67, 0.15);\n",
              "      fill: #174EA6;\n",
              "    }\n",
              "\n",
              "    [theme=dark] .colab-df-convert {\n",
              "      background-color: #3B4455;\n",
              "      fill: #D2E3FC;\n",
              "    }\n",
              "\n",
              "    [theme=dark] .colab-df-convert:hover {\n",
              "      background-color: #434B5C;\n",
              "      box-shadow: 0px 1px 3px 1px rgba(0, 0, 0, 0.15);\n",
              "      filter: drop-shadow(0px 1px 2px rgba(0, 0, 0, 0.3));\n",
              "      fill: #FFFFFF;\n",
              "    }\n",
              "  </style>\n",
              "\n",
              "      <script>\n",
              "        const buttonEl =\n",
              "          document.querySelector('#df-0281b689-9216-4e18-8ff6-75e56b07a78d button.colab-df-convert');\n",
              "        buttonEl.style.display =\n",
              "          google.colab.kernel.accessAllowed ? 'block' : 'none';\n",
              "\n",
              "        async function convertToInteractive(key) {\n",
              "          const element = document.querySelector('#df-0281b689-9216-4e18-8ff6-75e56b07a78d');\n",
              "          const dataTable =\n",
              "            await google.colab.kernel.invokeFunction('convertToInteractive',\n",
              "                                                     [key], {});\n",
              "          if (!dataTable) return;\n",
              "\n",
              "          const docLinkHtml = 'Like what you see? Visit the ' +\n",
              "            '<a target=\"_blank\" href=https://colab.research.google.com/notebooks/data_table.ipynb>data table notebook</a>'\n",
              "            + ' to learn more about interactive tables.';\n",
              "          element.innerHTML = '';\n",
              "          dataTable['output_type'] = 'display_data';\n",
              "          await google.colab.output.renderOutput(dataTable, element);\n",
              "          const docLink = document.createElement('div');\n",
              "          docLink.innerHTML = docLinkHtml;\n",
              "          element.appendChild(docLink);\n",
              "        }\n",
              "      </script>\n",
              "    </div>\n",
              "  </div>\n",
              "  "
            ]
          },
          "metadata": {},
          "execution_count": 36
        }
      ]
    },
    {
      "cell_type": "code",
      "source": [
        "dt['GDP'].loc[dt['GDP'] == 48588.73] = dt['GDP'].mean()  #Change the outlier to the mean."
      ],
      "metadata": {
        "colab": {
          "base_uri": "https://localhost:8080/"
        },
        "id": "l84TMl-TIIY2",
        "outputId": "446c8226-e61c-4eca-dc7e-3c6db2a8b71c"
      },
      "execution_count": 37,
      "outputs": [
        {
          "output_type": "stream",
          "name": "stderr",
          "text": [
            "/usr/local/lib/python3.8/dist-packages/pandas/core/indexing.py:1732: SettingWithCopyWarning: \n",
            "A value is trying to be set on a copy of a slice from a DataFrame\n",
            "\n",
            "See the caveats in the documentation: https://pandas.pydata.org/pandas-docs/stable/user_guide/indexing.html#returning-a-view-versus-a-copy\n",
            "  self._setitem_single_block(indexer, value, name)\n"
          ]
        }
      ]
    },
    {
      "cell_type": "code",
      "source": [
        "dt[\"Mortality\"]=dt[\"Mortality\"].astype(int)\n",
        "dt[\"GDP\"]=dt[\"GDP\"].astype(int) #We do not need decimals for these values so we are converting them into integers."
      ],
      "metadata": {
        "id": "up5qNBxSC6h5"
      },
      "execution_count": 38,
      "outputs": []
    },
    {
      "cell_type": "code",
      "source": [
        "dt['Life Expectancy'] = dt['Life Expectancy'].round(decimals = 2)\n",
        "\n",
        "dt[\"BMI\"]=dt[\"BMI\"].round(decimals=1)\n",
        "dt[\"Total Expenditure\"]=dt[\"Total Expenditure\"].round(decimals=2)"
      ],
      "metadata": {
        "id": "31uudB6M_1TZ"
      },
      "execution_count": 39,
      "outputs": []
    },
    {
      "cell_type": "code",
      "source": [
        "dt.head()"
      ],
      "metadata": {
        "colab": {
          "base_uri": "https://localhost:8080/",
          "height": 204
        },
        "id": "uV4magLMoiHy",
        "outputId": "1f85ce4e-e145-4ace-8f01-875168959b30"
      },
      "execution_count": 40,
      "outputs": [
        {
          "output_type": "execute_result",
          "data": {
            "text/plain": [
              "   Life Expectancy      Status Continent  Mortality  Alcohol   BMI  \\\n",
              "0            71.25  Developing    Europe         51     3.76  27.7   \n",
              "1            71.68   Developed   America         52    11.93  31.5   \n",
              "2            70.13   Developed      Asia         29     8.63  28.7   \n",
              "3            71.13   Developed    Europe         35     1.74  36.7   \n",
              "4            77.50  Developing      Asia         99     4.78  54.9   \n",
              "\n",
              "   Total Expenditure    GDP Unit  \n",
              "0                9.4  17469  USD  \n",
              "1                5.2  19317  USD  \n",
              "2                4.8  11598  USD  \n",
              "3               11.9  16726  USD  \n",
              "4                9.2  21392  USD  "
            ],
            "text/html": [
              "\n",
              "  <div id=\"df-fab8a238-e1a2-440c-ac8e-5d83438376c6\">\n",
              "    <div class=\"colab-df-container\">\n",
              "      <div>\n",
              "<style scoped>\n",
              "    .dataframe tbody tr th:only-of-type {\n",
              "        vertical-align: middle;\n",
              "    }\n",
              "\n",
              "    .dataframe tbody tr th {\n",
              "        vertical-align: top;\n",
              "    }\n",
              "\n",
              "    .dataframe thead th {\n",
              "        text-align: right;\n",
              "    }\n",
              "</style>\n",
              "<table border=\"1\" class=\"dataframe\">\n",
              "  <thead>\n",
              "    <tr style=\"text-align: right;\">\n",
              "      <th></th>\n",
              "      <th>Life Expectancy</th>\n",
              "      <th>Status</th>\n",
              "      <th>Continent</th>\n",
              "      <th>Mortality</th>\n",
              "      <th>Alcohol</th>\n",
              "      <th>BMI</th>\n",
              "      <th>Total Expenditure</th>\n",
              "      <th>GDP</th>\n",
              "      <th>Unit</th>\n",
              "    </tr>\n",
              "  </thead>\n",
              "  <tbody>\n",
              "    <tr>\n",
              "      <th>0</th>\n",
              "      <td>71.25</td>\n",
              "      <td>Developing</td>\n",
              "      <td>Europe</td>\n",
              "      <td>51</td>\n",
              "      <td>3.76</td>\n",
              "      <td>27.7</td>\n",
              "      <td>9.4</td>\n",
              "      <td>17469</td>\n",
              "      <td>USD</td>\n",
              "    </tr>\n",
              "    <tr>\n",
              "      <th>1</th>\n",
              "      <td>71.68</td>\n",
              "      <td>Developed</td>\n",
              "      <td>America</td>\n",
              "      <td>52</td>\n",
              "      <td>11.93</td>\n",
              "      <td>31.5</td>\n",
              "      <td>5.2</td>\n",
              "      <td>19317</td>\n",
              "      <td>USD</td>\n",
              "    </tr>\n",
              "    <tr>\n",
              "      <th>2</th>\n",
              "      <td>70.13</td>\n",
              "      <td>Developed</td>\n",
              "      <td>Asia</td>\n",
              "      <td>29</td>\n",
              "      <td>8.63</td>\n",
              "      <td>28.7</td>\n",
              "      <td>4.8</td>\n",
              "      <td>11598</td>\n",
              "      <td>USD</td>\n",
              "    </tr>\n",
              "    <tr>\n",
              "      <th>3</th>\n",
              "      <td>71.13</td>\n",
              "      <td>Developed</td>\n",
              "      <td>Europe</td>\n",
              "      <td>35</td>\n",
              "      <td>1.74</td>\n",
              "      <td>36.7</td>\n",
              "      <td>11.9</td>\n",
              "      <td>16726</td>\n",
              "      <td>USD</td>\n",
              "    </tr>\n",
              "    <tr>\n",
              "      <th>4</th>\n",
              "      <td>77.50</td>\n",
              "      <td>Developing</td>\n",
              "      <td>Asia</td>\n",
              "      <td>99</td>\n",
              "      <td>4.78</td>\n",
              "      <td>54.9</td>\n",
              "      <td>9.2</td>\n",
              "      <td>21392</td>\n",
              "      <td>USD</td>\n",
              "    </tr>\n",
              "  </tbody>\n",
              "</table>\n",
              "</div>\n",
              "      <button class=\"colab-df-convert\" onclick=\"convertToInteractive('df-fab8a238-e1a2-440c-ac8e-5d83438376c6')\"\n",
              "              title=\"Convert this dataframe to an interactive table.\"\n",
              "              style=\"display:none;\">\n",
              "        \n",
              "  <svg xmlns=\"http://www.w3.org/2000/svg\" height=\"24px\"viewBox=\"0 0 24 24\"\n",
              "       width=\"24px\">\n",
              "    <path d=\"M0 0h24v24H0V0z\" fill=\"none\"/>\n",
              "    <path d=\"M18.56 5.44l.94 2.06.94-2.06 2.06-.94-2.06-.94-.94-2.06-.94 2.06-2.06.94zm-11 1L8.5 8.5l.94-2.06 2.06-.94-2.06-.94L8.5 2.5l-.94 2.06-2.06.94zm10 10l.94 2.06.94-2.06 2.06-.94-2.06-.94-.94-2.06-.94 2.06-2.06.94z\"/><path d=\"M17.41 7.96l-1.37-1.37c-.4-.4-.92-.59-1.43-.59-.52 0-1.04.2-1.43.59L10.3 9.45l-7.72 7.72c-.78.78-.78 2.05 0 2.83L4 21.41c.39.39.9.59 1.41.59.51 0 1.02-.2 1.41-.59l7.78-7.78 2.81-2.81c.8-.78.8-2.07 0-2.86zM5.41 20L4 18.59l7.72-7.72 1.47 1.35L5.41 20z\"/>\n",
              "  </svg>\n",
              "      </button>\n",
              "      \n",
              "  <style>\n",
              "    .colab-df-container {\n",
              "      display:flex;\n",
              "      flex-wrap:wrap;\n",
              "      gap: 12px;\n",
              "    }\n",
              "\n",
              "    .colab-df-convert {\n",
              "      background-color: #E8F0FE;\n",
              "      border: none;\n",
              "      border-radius: 50%;\n",
              "      cursor: pointer;\n",
              "      display: none;\n",
              "      fill: #1967D2;\n",
              "      height: 32px;\n",
              "      padding: 0 0 0 0;\n",
              "      width: 32px;\n",
              "    }\n",
              "\n",
              "    .colab-df-convert:hover {\n",
              "      background-color: #E2EBFA;\n",
              "      box-shadow: 0px 1px 2px rgba(60, 64, 67, 0.3), 0px 1px 3px 1px rgba(60, 64, 67, 0.15);\n",
              "      fill: #174EA6;\n",
              "    }\n",
              "\n",
              "    [theme=dark] .colab-df-convert {\n",
              "      background-color: #3B4455;\n",
              "      fill: #D2E3FC;\n",
              "    }\n",
              "\n",
              "    [theme=dark] .colab-df-convert:hover {\n",
              "      background-color: #434B5C;\n",
              "      box-shadow: 0px 1px 3px 1px rgba(0, 0, 0, 0.15);\n",
              "      filter: drop-shadow(0px 1px 2px rgba(0, 0, 0, 0.3));\n",
              "      fill: #FFFFFF;\n",
              "    }\n",
              "  </style>\n",
              "\n",
              "      <script>\n",
              "        const buttonEl =\n",
              "          document.querySelector('#df-fab8a238-e1a2-440c-ac8e-5d83438376c6 button.colab-df-convert');\n",
              "        buttonEl.style.display =\n",
              "          google.colab.kernel.accessAllowed ? 'block' : 'none';\n",
              "\n",
              "        async function convertToInteractive(key) {\n",
              "          const element = document.querySelector('#df-fab8a238-e1a2-440c-ac8e-5d83438376c6');\n",
              "          const dataTable =\n",
              "            await google.colab.kernel.invokeFunction('convertToInteractive',\n",
              "                                                     [key], {});\n",
              "          if (!dataTable) return;\n",
              "\n",
              "          const docLinkHtml = 'Like what you see? Visit the ' +\n",
              "            '<a target=\"_blank\" href=https://colab.research.google.com/notebooks/data_table.ipynb>data table notebook</a>'\n",
              "            + ' to learn more about interactive tables.';\n",
              "          element.innerHTML = '';\n",
              "          dataTable['output_type'] = 'display_data';\n",
              "          await google.colab.output.renderOutput(dataTable, element);\n",
              "          const docLink = document.createElement('div');\n",
              "          docLink.innerHTML = docLinkHtml;\n",
              "          element.appendChild(docLink);\n",
              "        }\n",
              "      </script>\n",
              "    </div>\n",
              "  </div>\n",
              "  "
            ]
          },
          "metadata": {},
          "execution_count": 40
        }
      ]
    },
    {
      "cell_type": "code",
      "source": [
        "dt.tail()"
      ],
      "metadata": {
        "colab": {
          "base_uri": "https://localhost:8080/",
          "height": 204
        },
        "id": "zn_wih9F907Z",
        "outputId": "587c2fc2-27d5-4197-c0e8-e22801193221"
      },
      "execution_count": 41,
      "outputs": [
        {
          "output_type": "execute_result",
          "data": {
            "text/plain": [
              "     Life Expectancy      Status Continent  Mortality  Alcohol   BMI  \\\n",
              "100            70.55   Developed   America         50    13.38  23.8   \n",
              "101            74.08   Developed    Europe         64    12.60  43.4   \n",
              "102            72.94   Developed   America         78     9.07  42.6   \n",
              "103            70.96  Developing   America         31     3.22  27.7   \n",
              "104            70.68   Developed   America         50    16.06  38.7   \n",
              "\n",
              "     Total Expenditure    GDP Unit  \n",
              "100              11.10  13728  USD  \n",
              "101               8.19  31222  USD  \n",
              "102               5.70  25789  USD  \n",
              "103               7.90  15753  USD  \n",
              "104               7.70  21392  USD  "
            ],
            "text/html": [
              "\n",
              "  <div id=\"df-4ce27002-6146-4992-bf7e-080fdad0882c\">\n",
              "    <div class=\"colab-df-container\">\n",
              "      <div>\n",
              "<style scoped>\n",
              "    .dataframe tbody tr th:only-of-type {\n",
              "        vertical-align: middle;\n",
              "    }\n",
              "\n",
              "    .dataframe tbody tr th {\n",
              "        vertical-align: top;\n",
              "    }\n",
              "\n",
              "    .dataframe thead th {\n",
              "        text-align: right;\n",
              "    }\n",
              "</style>\n",
              "<table border=\"1\" class=\"dataframe\">\n",
              "  <thead>\n",
              "    <tr style=\"text-align: right;\">\n",
              "      <th></th>\n",
              "      <th>Life Expectancy</th>\n",
              "      <th>Status</th>\n",
              "      <th>Continent</th>\n",
              "      <th>Mortality</th>\n",
              "      <th>Alcohol</th>\n",
              "      <th>BMI</th>\n",
              "      <th>Total Expenditure</th>\n",
              "      <th>GDP</th>\n",
              "      <th>Unit</th>\n",
              "    </tr>\n",
              "  </thead>\n",
              "  <tbody>\n",
              "    <tr>\n",
              "      <th>100</th>\n",
              "      <td>70.55</td>\n",
              "      <td>Developed</td>\n",
              "      <td>America</td>\n",
              "      <td>50</td>\n",
              "      <td>13.38</td>\n",
              "      <td>23.8</td>\n",
              "      <td>11.10</td>\n",
              "      <td>13728</td>\n",
              "      <td>USD</td>\n",
              "    </tr>\n",
              "    <tr>\n",
              "      <th>101</th>\n",
              "      <td>74.08</td>\n",
              "      <td>Developed</td>\n",
              "      <td>Europe</td>\n",
              "      <td>64</td>\n",
              "      <td>12.60</td>\n",
              "      <td>43.4</td>\n",
              "      <td>8.19</td>\n",
              "      <td>31222</td>\n",
              "      <td>USD</td>\n",
              "    </tr>\n",
              "    <tr>\n",
              "      <th>102</th>\n",
              "      <td>72.94</td>\n",
              "      <td>Developed</td>\n",
              "      <td>America</td>\n",
              "      <td>78</td>\n",
              "      <td>9.07</td>\n",
              "      <td>42.6</td>\n",
              "      <td>5.70</td>\n",
              "      <td>25789</td>\n",
              "      <td>USD</td>\n",
              "    </tr>\n",
              "    <tr>\n",
              "      <th>103</th>\n",
              "      <td>70.96</td>\n",
              "      <td>Developing</td>\n",
              "      <td>America</td>\n",
              "      <td>31</td>\n",
              "      <td>3.22</td>\n",
              "      <td>27.7</td>\n",
              "      <td>7.90</td>\n",
              "      <td>15753</td>\n",
              "      <td>USD</td>\n",
              "    </tr>\n",
              "    <tr>\n",
              "      <th>104</th>\n",
              "      <td>70.68</td>\n",
              "      <td>Developed</td>\n",
              "      <td>America</td>\n",
              "      <td>50</td>\n",
              "      <td>16.06</td>\n",
              "      <td>38.7</td>\n",
              "      <td>7.70</td>\n",
              "      <td>21392</td>\n",
              "      <td>USD</td>\n",
              "    </tr>\n",
              "  </tbody>\n",
              "</table>\n",
              "</div>\n",
              "      <button class=\"colab-df-convert\" onclick=\"convertToInteractive('df-4ce27002-6146-4992-bf7e-080fdad0882c')\"\n",
              "              title=\"Convert this dataframe to an interactive table.\"\n",
              "              style=\"display:none;\">\n",
              "        \n",
              "  <svg xmlns=\"http://www.w3.org/2000/svg\" height=\"24px\"viewBox=\"0 0 24 24\"\n",
              "       width=\"24px\">\n",
              "    <path d=\"M0 0h24v24H0V0z\" fill=\"none\"/>\n",
              "    <path d=\"M18.56 5.44l.94 2.06.94-2.06 2.06-.94-2.06-.94-.94-2.06-.94 2.06-2.06.94zm-11 1L8.5 8.5l.94-2.06 2.06-.94-2.06-.94L8.5 2.5l-.94 2.06-2.06.94zm10 10l.94 2.06.94-2.06 2.06-.94-2.06-.94-.94-2.06-.94 2.06-2.06.94z\"/><path d=\"M17.41 7.96l-1.37-1.37c-.4-.4-.92-.59-1.43-.59-.52 0-1.04.2-1.43.59L10.3 9.45l-7.72 7.72c-.78.78-.78 2.05 0 2.83L4 21.41c.39.39.9.59 1.41.59.51 0 1.02-.2 1.41-.59l7.78-7.78 2.81-2.81c.8-.78.8-2.07 0-2.86zM5.41 20L4 18.59l7.72-7.72 1.47 1.35L5.41 20z\"/>\n",
              "  </svg>\n",
              "      </button>\n",
              "      \n",
              "  <style>\n",
              "    .colab-df-container {\n",
              "      display:flex;\n",
              "      flex-wrap:wrap;\n",
              "      gap: 12px;\n",
              "    }\n",
              "\n",
              "    .colab-df-convert {\n",
              "      background-color: #E8F0FE;\n",
              "      border: none;\n",
              "      border-radius: 50%;\n",
              "      cursor: pointer;\n",
              "      display: none;\n",
              "      fill: #1967D2;\n",
              "      height: 32px;\n",
              "      padding: 0 0 0 0;\n",
              "      width: 32px;\n",
              "    }\n",
              "\n",
              "    .colab-df-convert:hover {\n",
              "      background-color: #E2EBFA;\n",
              "      box-shadow: 0px 1px 2px rgba(60, 64, 67, 0.3), 0px 1px 3px 1px rgba(60, 64, 67, 0.15);\n",
              "      fill: #174EA6;\n",
              "    }\n",
              "\n",
              "    [theme=dark] .colab-df-convert {\n",
              "      background-color: #3B4455;\n",
              "      fill: #D2E3FC;\n",
              "    }\n",
              "\n",
              "    [theme=dark] .colab-df-convert:hover {\n",
              "      background-color: #434B5C;\n",
              "      box-shadow: 0px 1px 3px 1px rgba(0, 0, 0, 0.15);\n",
              "      filter: drop-shadow(0px 1px 2px rgba(0, 0, 0, 0.3));\n",
              "      fill: #FFFFFF;\n",
              "    }\n",
              "  </style>\n",
              "\n",
              "      <script>\n",
              "        const buttonEl =\n",
              "          document.querySelector('#df-4ce27002-6146-4992-bf7e-080fdad0882c button.colab-df-convert');\n",
              "        buttonEl.style.display =\n",
              "          google.colab.kernel.accessAllowed ? 'block' : 'none';\n",
              "\n",
              "        async function convertToInteractive(key) {\n",
              "          const element = document.querySelector('#df-4ce27002-6146-4992-bf7e-080fdad0882c');\n",
              "          const dataTable =\n",
              "            await google.colab.kernel.invokeFunction('convertToInteractive',\n",
              "                                                     [key], {});\n",
              "          if (!dataTable) return;\n",
              "\n",
              "          const docLinkHtml = 'Like what you see? Visit the ' +\n",
              "            '<a target=\"_blank\" href=https://colab.research.google.com/notebooks/data_table.ipynb>data table notebook</a>'\n",
              "            + ' to learn more about interactive tables.';\n",
              "          element.innerHTML = '';\n",
              "          dataTable['output_type'] = 'display_data';\n",
              "          await google.colab.output.renderOutput(dataTable, element);\n",
              "          const docLink = document.createElement('div');\n",
              "          docLink.innerHTML = docLinkHtml;\n",
              "          element.appendChild(docLink);\n",
              "        }\n",
              "      </script>\n",
              "    </div>\n",
              "  </div>\n",
              "  "
            ]
          },
          "metadata": {},
          "execution_count": 41
        }
      ]
    },
    {
      "cell_type": "code",
      "source": [
        "dt.describe().transpose()"
      ],
      "metadata": {
        "colab": {
          "base_uri": "https://localhost:8080/",
          "height": 235
        },
        "id": "VTXC3w1792rZ",
        "outputId": "b33edaa4-7c81-43bd-9bd9-3c8d0a5532fa"
      },
      "execution_count": 42,
      "outputs": [
        {
          "output_type": "execute_result",
          "data": {
            "text/plain": [
              "                   count          mean          std      min       25%  \\\n",
              "Life Expectancy    105.0     72.112667     1.538657     70.0     70.82   \n",
              "Mortality          105.0     50.257143    22.768496     10.0     32.00   \n",
              "Alcohol            105.0      9.747187     5.372651      1.0      5.46   \n",
              "BMI                105.0     39.139048    14.109009      0.0     27.70   \n",
              "Total Expenditure  105.0      8.192857     2.224678      2.5      7.00   \n",
              "GDP                105.0  21132.838095  7050.472578  11091.0  15141.00   \n",
              "\n",
              "                            50%       75%       max  \n",
              "Life Expectancy       72.010000     72.88     77.50  \n",
              "Mortality             50.000000     67.00     99.00  \n",
              "Alcohol                9.747187     14.44     19.86  \n",
              "BMI                   37.400000     47.60     74.50  \n",
              "Total Expenditure      8.190000      9.40     14.60  \n",
              "GDP                20938.000000  25370.00  37839.00  "
            ],
            "text/html": [
              "\n",
              "  <div id=\"df-870e35cb-bc52-41a0-a202-56ad469dc8c1\">\n",
              "    <div class=\"colab-df-container\">\n",
              "      <div>\n",
              "<style scoped>\n",
              "    .dataframe tbody tr th:only-of-type {\n",
              "        vertical-align: middle;\n",
              "    }\n",
              "\n",
              "    .dataframe tbody tr th {\n",
              "        vertical-align: top;\n",
              "    }\n",
              "\n",
              "    .dataframe thead th {\n",
              "        text-align: right;\n",
              "    }\n",
              "</style>\n",
              "<table border=\"1\" class=\"dataframe\">\n",
              "  <thead>\n",
              "    <tr style=\"text-align: right;\">\n",
              "      <th></th>\n",
              "      <th>count</th>\n",
              "      <th>mean</th>\n",
              "      <th>std</th>\n",
              "      <th>min</th>\n",
              "      <th>25%</th>\n",
              "      <th>50%</th>\n",
              "      <th>75%</th>\n",
              "      <th>max</th>\n",
              "    </tr>\n",
              "  </thead>\n",
              "  <tbody>\n",
              "    <tr>\n",
              "      <th>Life Expectancy</th>\n",
              "      <td>105.0</td>\n",
              "      <td>72.112667</td>\n",
              "      <td>1.538657</td>\n",
              "      <td>70.0</td>\n",
              "      <td>70.82</td>\n",
              "      <td>72.010000</td>\n",
              "      <td>72.88</td>\n",
              "      <td>77.50</td>\n",
              "    </tr>\n",
              "    <tr>\n",
              "      <th>Mortality</th>\n",
              "      <td>105.0</td>\n",
              "      <td>50.257143</td>\n",
              "      <td>22.768496</td>\n",
              "      <td>10.0</td>\n",
              "      <td>32.00</td>\n",
              "      <td>50.000000</td>\n",
              "      <td>67.00</td>\n",
              "      <td>99.00</td>\n",
              "    </tr>\n",
              "    <tr>\n",
              "      <th>Alcohol</th>\n",
              "      <td>105.0</td>\n",
              "      <td>9.747187</td>\n",
              "      <td>5.372651</td>\n",
              "      <td>1.0</td>\n",
              "      <td>5.46</td>\n",
              "      <td>9.747187</td>\n",
              "      <td>14.44</td>\n",
              "      <td>19.86</td>\n",
              "    </tr>\n",
              "    <tr>\n",
              "      <th>BMI</th>\n",
              "      <td>105.0</td>\n",
              "      <td>39.139048</td>\n",
              "      <td>14.109009</td>\n",
              "      <td>0.0</td>\n",
              "      <td>27.70</td>\n",
              "      <td>37.400000</td>\n",
              "      <td>47.60</td>\n",
              "      <td>74.50</td>\n",
              "    </tr>\n",
              "    <tr>\n",
              "      <th>Total Expenditure</th>\n",
              "      <td>105.0</td>\n",
              "      <td>8.192857</td>\n",
              "      <td>2.224678</td>\n",
              "      <td>2.5</td>\n",
              "      <td>7.00</td>\n",
              "      <td>8.190000</td>\n",
              "      <td>9.40</td>\n",
              "      <td>14.60</td>\n",
              "    </tr>\n",
              "    <tr>\n",
              "      <th>GDP</th>\n",
              "      <td>105.0</td>\n",
              "      <td>21132.838095</td>\n",
              "      <td>7050.472578</td>\n",
              "      <td>11091.0</td>\n",
              "      <td>15141.00</td>\n",
              "      <td>20938.000000</td>\n",
              "      <td>25370.00</td>\n",
              "      <td>37839.00</td>\n",
              "    </tr>\n",
              "  </tbody>\n",
              "</table>\n",
              "</div>\n",
              "      <button class=\"colab-df-convert\" onclick=\"convertToInteractive('df-870e35cb-bc52-41a0-a202-56ad469dc8c1')\"\n",
              "              title=\"Convert this dataframe to an interactive table.\"\n",
              "              style=\"display:none;\">\n",
              "        \n",
              "  <svg xmlns=\"http://www.w3.org/2000/svg\" height=\"24px\"viewBox=\"0 0 24 24\"\n",
              "       width=\"24px\">\n",
              "    <path d=\"M0 0h24v24H0V0z\" fill=\"none\"/>\n",
              "    <path d=\"M18.56 5.44l.94 2.06.94-2.06 2.06-.94-2.06-.94-.94-2.06-.94 2.06-2.06.94zm-11 1L8.5 8.5l.94-2.06 2.06-.94-2.06-.94L8.5 2.5l-.94 2.06-2.06.94zm10 10l.94 2.06.94-2.06 2.06-.94-2.06-.94-.94-2.06-.94 2.06-2.06.94z\"/><path d=\"M17.41 7.96l-1.37-1.37c-.4-.4-.92-.59-1.43-.59-.52 0-1.04.2-1.43.59L10.3 9.45l-7.72 7.72c-.78.78-.78 2.05 0 2.83L4 21.41c.39.39.9.59 1.41.59.51 0 1.02-.2 1.41-.59l7.78-7.78 2.81-2.81c.8-.78.8-2.07 0-2.86zM5.41 20L4 18.59l7.72-7.72 1.47 1.35L5.41 20z\"/>\n",
              "  </svg>\n",
              "      </button>\n",
              "      \n",
              "  <style>\n",
              "    .colab-df-container {\n",
              "      display:flex;\n",
              "      flex-wrap:wrap;\n",
              "      gap: 12px;\n",
              "    }\n",
              "\n",
              "    .colab-df-convert {\n",
              "      background-color: #E8F0FE;\n",
              "      border: none;\n",
              "      border-radius: 50%;\n",
              "      cursor: pointer;\n",
              "      display: none;\n",
              "      fill: #1967D2;\n",
              "      height: 32px;\n",
              "      padding: 0 0 0 0;\n",
              "      width: 32px;\n",
              "    }\n",
              "\n",
              "    .colab-df-convert:hover {\n",
              "      background-color: #E2EBFA;\n",
              "      box-shadow: 0px 1px 2px rgba(60, 64, 67, 0.3), 0px 1px 3px 1px rgba(60, 64, 67, 0.15);\n",
              "      fill: #174EA6;\n",
              "    }\n",
              "\n",
              "    [theme=dark] .colab-df-convert {\n",
              "      background-color: #3B4455;\n",
              "      fill: #D2E3FC;\n",
              "    }\n",
              "\n",
              "    [theme=dark] .colab-df-convert:hover {\n",
              "      background-color: #434B5C;\n",
              "      box-shadow: 0px 1px 3px 1px rgba(0, 0, 0, 0.15);\n",
              "      filter: drop-shadow(0px 1px 2px rgba(0, 0, 0, 0.3));\n",
              "      fill: #FFFFFF;\n",
              "    }\n",
              "  </style>\n",
              "\n",
              "      <script>\n",
              "        const buttonEl =\n",
              "          document.querySelector('#df-870e35cb-bc52-41a0-a202-56ad469dc8c1 button.colab-df-convert');\n",
              "        buttonEl.style.display =\n",
              "          google.colab.kernel.accessAllowed ? 'block' : 'none';\n",
              "\n",
              "        async function convertToInteractive(key) {\n",
              "          const element = document.querySelector('#df-870e35cb-bc52-41a0-a202-56ad469dc8c1');\n",
              "          const dataTable =\n",
              "            await google.colab.kernel.invokeFunction('convertToInteractive',\n",
              "                                                     [key], {});\n",
              "          if (!dataTable) return;\n",
              "\n",
              "          const docLinkHtml = 'Like what you see? Visit the ' +\n",
              "            '<a target=\"_blank\" href=https://colab.research.google.com/notebooks/data_table.ipynb>data table notebook</a>'\n",
              "            + ' to learn more about interactive tables.';\n",
              "          element.innerHTML = '';\n",
              "          dataTable['output_type'] = 'display_data';\n",
              "          await google.colab.output.renderOutput(dataTable, element);\n",
              "          const docLink = document.createElement('div');\n",
              "          docLink.innerHTML = docLinkHtml;\n",
              "          element.appendChild(docLink);\n",
              "        }\n",
              "      </script>\n",
              "    </div>\n",
              "  </div>\n",
              "  "
            ]
          },
          "metadata": {},
          "execution_count": 42
        }
      ]
    },
    {
      "cell_type": "code",
      "source": [
        "status_alcohol_mean = dt.groupby(['Status'])['Alcohol'].mean()"
      ],
      "metadata": {
        "id": "7KVF_bgWgs_X"
      },
      "execution_count": 43,
      "outputs": []
    },
    {
      "cell_type": "code",
      "source": [
        "status_alcohol_mean.plot(kind='bar')\n",
        "plt.xlabel(\"Status\")\n",
        "plt.ylabel(\"Mean Alcohol\")\n",
        "plt.title(\"Average Alcohol by Status\")\n",
        "plt.show()"
      ],
      "metadata": {
        "colab": {
          "base_uri": "https://localhost:8080/",
          "height": 342
        },
        "id": "dtISHIcLhTD9",
        "outputId": "958686ca-31fb-45ca-e8ff-09e1fcadb992"
      },
      "execution_count": 44,
      "outputs": [
        {
          "output_type": "display_data",
          "data": {
            "text/plain": [
              "<Figure size 432x288 with 1 Axes>"
            ],
            "image/png": "[encoded data removed]"
          },
          "metadata": {
            "needs_background": "light"
          }
        }
      ]
    },
    {
      "cell_type": "code",
      "source": [
        "#how does the status of the country ( developed & develpoing) effects the alcohol consuming average?\n",
        " \n",
        "#Based on the data provided, \n",
        "#it can be observed that the mean level of alcohol consumption in developed countries \n",
        "#is higher than the mean level of alcohol consumption in developing countries.\n"
      ],
      "metadata": {
        "id": "KJb7hf5jjmgS"
      },
      "execution_count": 45,
      "outputs": []
    },
    {
      "cell_type": "code",
      "source": [
        "ddc = dt[dt.Status == \"Developed\"]"
      ],
      "metadata": {
        "id": "6iUMfBTukeju"
      },
      "execution_count": 46,
      "outputs": []
    },
    {
      "cell_type": "code",
      "source": [
        "import seaborn as sns\n",
        "sns.regplot(data=ddc, x=\"BMI\", y=\"Alcohol\", marker=\"o\")\n",
        "plt.xlabel(\"BMI\")\n",
        "plt.ylabel(\"Alcohol Consumption\")\n",
        "plt.title(\"Relationship between BMI and Alcohol Consumption for Developed Countries\")\n",
        "plt.show()"
      ],
      "metadata": {
        "colab": {
          "base_uri": "https://localhost:8080/",
          "height": 295
        },
        "id": "oX-lxYBftPoM",
        "outputId": "950306ee-fb03-4969-fadd-e9fca1230d7f"
      },
      "execution_count": 47,
      "outputs": [
        {
          "output_type": "display_data",
          "data": {
            "text/plain": [
              "<Figure size 432x288 with 1 Axes>"
            ],
            "image/png": "[encoded data removed]"
          },
          "metadata": {
            "needs_background": "light"
          }
        }
      ]
    },
    {
      "cell_type": "code",
      "source": [
        "#does the alcohol consuiming average effects the body mass index (BMI)?\n",
        "\n",
        "#there is a weak positive correlation between alcohol consumption and BMI \n",
        "# as alcohol consumption increases, BMI also increases.\n",
        "#which indicating that individuals who consume more alcohol \n",
        "#tend to have a higher body mass index (BMI)."
      ],
      "metadata": {
        "id": "zAagTknYnvfn"
      },
      "execution_count": 48,
      "outputs": []
    },
    {
      "cell_type": "code",
      "source": [
        "sns.lmplot(x=\"Total Expenditure\",y=\"Life Expectancy\", col=\"Continent\",hue=\"Continent\",\n",
        "           palette=\"muted\",data=dt).fig.suptitle(\"The Relationship Between Life Expectancy and Total Expenditure by Continents\",\n",
        "                                                 y=1.05,fontweight=\"bold\",fontsize=14)\n",
        "##There is a strong positive correlation between life expectancy and total expenditure in America.\n",
        "#As the general government expenditure on health increases, life expectancy increases. \n",
        "#There is a weak positive correlation between life expectancy and total expenditure in Asia. \n",
        "#There is a weak negative correlation between life expectancy and total expenditure in Europe."
      ],
      "metadata": {
        "colab": {
          "base_uri": "https://localhost:8080/",
          "height": 396
        },
        "id": "sTkFG-4mrBKU",
        "outputId": "d5cdb468-1cea-45b2-b8dc-d93d92b6aa95"
      },
      "execution_count": 49,
      "outputs": [
        {
          "output_type": "execute_result",
          "data": {
            "text/plain": [
              "Text(0.5, 1.05, 'The Relationship Between Life Expectancy and Total Expenditure by Continents')"
            ]
          },
          "metadata": {},
          "execution_count": 49
        },
        {
          "output_type": "display_data",
          "data": {
            "text/plain": [
              "<Figure size 1080x360 with 3 Axes>"
            ],
            "image/png": "[encoded data removed]"
          },
          "metadata": {
            "needs_background": "light"
          }
        }
      ]
    },
    {
      "cell_type": "code",
      "source": [
        "sns.lmplot(x='Mortality',y='Life Expectancy',height=6,col='Continent',hue='Continent'\n",
        ",palette=\"bright\",data=dt).fig.suptitle('The Relationship between Life Expectancy and Mortality Depending on Continent',\n",
        "                                        y=1.05,fontsize=14,fontweight=\"bold\")\n",
        "sns.set_style(\"white\")\n",
        "plt.show()\n",
        "#These 3 scatter plot shows that they have a positive strong correlation between Mortality and Life Expectancy \n",
        "#all over the Continent. This means that the value of the Mortality increases if the value of the Life Expectancy\n",
        "#increases. Also, if we compare the 3 scatter plots, Asia has a stronger correlation than others. However, Europe \n",
        "#has a weaker correlation than others if we compare.\n"
      ],
      "metadata": {
        "colab": {
          "base_uri": "https://localhost:8080/",
          "height": 494
        },
        "id": "vRXXPY1brdKe",
        "outputId": "d76931c1-22b4-41bc-8134-d72cb0c6f6d5"
      },
      "execution_count": 50,
      "outputs": [
        {
          "output_type": "display_data",
          "data": {
            "text/plain": [
              "<Figure size 1296x432 with 3 Axes>"
            ],
            "image/png": "[encoded data removed]"
          },
          "metadata": {
            "needs_background": "light"
          }
        }
      ]
    },
    {
      "cell_type": "code",
      "source": [
        "sns.set()\n",
        "sns.set_style(\"white\")\n",
        "g = sns.lmplot(x=\"Life Expectancy\",y=\"GDP\",col=\"Continent\", hue=\"Continent\",palette=\"muted\", data=dt).fig.suptitle(\"The Relationship Between Life Expectancy and GDP By Continents\",y=1.05,fontweight=\"bold\",fontsize=16)\n",
        "#We see that there are almost positive lineer correlation between GDP and Life Expectancy for all the continents.It means that as GDP of the country increases, average lifespan of the people also increase almost proportionally. Correlation is weaker in Asia."
      ],
      "metadata": {
        "colab": {
          "base_uri": "https://localhost:8080/",
          "height": 416
        },
        "id": "QsB2bg45rzBo",
        "outputId": "9de2a144-a5d7-41a7-bf19-c07efa06cd4b"
      },
      "execution_count": 51,
      "outputs": [
        {
          "output_type": "display_data",
          "data": {
            "text/plain": [
              "<Figure size 1080x360 with 3 Axes>"
            ],
            "image/png": "[encoded data removed]"
          },
          "metadata": {}
        }
      ]
    },
    {
      "cell_type": "code",
      "source": [
        "sns.displot(\n",
        "    dt, x=\"Life Expectancy\", col=\"Continent\", hue=\"Status\",\n",
        "   facet_kws=dict(margin_titles=True)).fig.suptitle(\"Distribution of Life Expectancy by Status and Continents\",y=1.05,fontweight=\"bold\",fontsize=16)\n",
        "   #We see that the majority of our data is from Asia. In Asia, most frequent life expectancy is 72 for both developing and developed countries'. We can say that the graph is right skewed for Asia. \n",
        "#It is also right skewed for America continent. Most frequent life expectancy changes by the status. It is 72 for developing countries and 70 for developed countries.\n",
        "#Europe life expectancy distribution chaneges by status. It is almost bell shaped for developed countries with the mode of 72, and right skewed for developing countries with the mode of 70."
      ],
      "metadata": {
        "colab": {
          "base_uri": "https://localhost:8080/",
          "height": 362
        },
        "id": "z1CkDwzUw0QO",
        "outputId": "cfb41506-438d-4fd4-ff6f-acd9a76116c1"
      },
      "execution_count": 52,
      "outputs": [
        {
          "output_type": "execute_result",
          "data": {
            "text/plain": [
              "Text(0.5, 1.05, 'Distribution of Life Expectancy by Status and Continents')"
            ]
          },
          "metadata": {},
          "execution_count": 52
        },
        {
          "output_type": "display_data",
          "data": {
            "text/plain": [
              "<Figure size 1182.35x360 with 3 Axes>"
            ],
            "image/png": "[encoded data removed]"
          },
          "metadata": {}
        }
      ]
    }
  ]
}